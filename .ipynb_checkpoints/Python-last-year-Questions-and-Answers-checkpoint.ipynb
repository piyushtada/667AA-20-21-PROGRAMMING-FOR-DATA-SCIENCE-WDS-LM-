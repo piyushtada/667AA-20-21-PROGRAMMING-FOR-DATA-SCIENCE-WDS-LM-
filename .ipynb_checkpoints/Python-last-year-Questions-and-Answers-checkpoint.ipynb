{
 "cells": [
  {
   "cell_type": "markdown",
   "metadata": {},
   "source": [
    "My idea was to have all the question and answers at one place so I can pratice all the questions in a flow.\n",
    "\n",
    "- we do bottom up approach work on the last paper first then go up "
   ]
  },
  {
   "cell_type": "markdown",
   "metadata": {},
   "source": [
    "# Basic Insturctions\n",
    "\n",
    "30% of the points are assigned to quality of documentation and/or comments to solutions. Solutions must include tests of executions of the developed functions. Deliver a pen-drive and name files as “<your matricola>_<firstname>_<lastname>_<exercisenumber>.py” for Exercises 1 and 2, and <your matricola>_<firstname>_<lastname>_3.c for the last exercise.\n"
   ]
  },
  {
   "cell_type": "markdown",
   "metadata": {},
   "source": [
    "## PDS_Test_16\n",
    "### Exercise 1 (10 points).\n",
    "A ​boomerang is a V-shaped sequence that is either upright or upside down. Specifically, a boomerang can be defined as: sub-list of length 3, with the first and last digits being the same and the middle digit being different. Some boomerang examples: [3, 7, 3], [1, -1, 1], [5, 6, 5]. Create a function that returns the total number of boomerangs in a list. For instance: [3,7,3,7,20,11,1,11] would return 3."
   ]
  },
  {
   "cell_type": "code",
   "execution_count": 23,
   "metadata": {},
   "outputs": [],
   "source": [
    "ex = [3,7,3,7,20,11,1,11]\n",
    "\n",
    "def boomerang(l):\n",
    "    \"\"\"\n",
    "    Finds out the number of boomerang examples: [3, 7, 3], [1, -1, 1], [5, 6, 5]\n",
    "    In the list\n",
    "    \"\"\"\n",
    "    counter = 0\n",
    "    for i, v in enumerate(l):\n",
    "        if len(l)-2 == i:\n",
    "            break\n",
    "        else:\n",
    "            if l[i] == l[i+2]:\n",
    "                counter += 1\n",
    "    return counter"
   ]
  },
  {
   "cell_type": "code",
   "execution_count": 24,
   "metadata": {},
   "outputs": [
    {
     "name": "stdout",
     "output_type": "stream",
     "text": [
      "3\n"
     ]
    }
   ],
   "source": [
    "print(boomerang(ex))"
   ]
  },
  {
   "cell_type": "markdown",
   "metadata": {},
   "source": [
    "[stackoverflow](https://stackoverflow.com/questions/63684211/how-to-create-a-function-that-returns-the-total-number-of-boomerangs-in-an-array)\n",
    "- we can reduce the above code with only going to -2 of range\n",
    "- and combine the actual logic of next one not equal but the next to next one is equal"
   ]
  },
  {
   "cell_type": "code",
   "execution_count": 26,
   "metadata": {},
   "outputs": [
    {
     "name": "stdout",
     "output_type": "stream",
     "text": [
      "3\n",
      "5\n"
     ]
    }
   ],
   "source": [
    "def boomerangs(l):\n",
    "    count = 0\n",
    "    for i in range(len(l) - 2):\n",
    "        if l[i] == l[i+2] and l[i] != l[i+1]:\n",
    "            count += 1\n",
    "    return count\n",
    "\n",
    "print(boomerangs([3, 7, 3, 2, 1, 5, 1, 2, 2, -2, 2]))\n",
    "print(boomerangs([1, 7, 1, 7, 1, 7, 1]))"
   ]
  },
  {
   "cell_type": "code",
   "execution_count": 3,
   "metadata": {},
   "outputs": [
    {
     "name": "stdout",
     "output_type": "stream",
     "text": [
      "3\n"
     ]
    }
   ],
   "source": [
    "def boomerang(L):\n",
    "    triplette=[]\n",
    "    for i in range(0,len(L)-2):\n",
    "        if L[i]==L[i+2]:\n",
    "            tripla=L[i:i+3]\n",
    "            triplette.append(tripla)\n",
    "    return len(triplette)\n",
    "print(boomerang([3,7,3,7,20,11,1,11]))"
   ]
  },
  {
   "cell_type": "code",
   "execution_count": 5,
   "metadata": {},
   "outputs": [
    {
     "name": "stdout",
     "output_type": "stream",
     "text": [
      "3\n"
     ]
    }
   ],
   "source": [
    "# we solve this problem in a simpler way \n",
    "\n",
    "ex = [3,7,3,7,20,11,1,11]\n",
    "\n",
    "# code here\n",
    "def boomerang(l):\n",
    "    \"\"\"Count number of boomerangs in a given list.\n",
    "\n",
    "    Args:\n",
    "    l (list): A list of numbers.\n",
    "\n",
    "    Returns:\n",
    "    count (int): The number of boomerangs.\n",
    "    \"\"\"\n",
    "    count = 0\n",
    "    for i in range(0, len(l) - 2): \n",
    "        if l[i] == l[i + 2]:\n",
    "            count+=1\n",
    "    return count\n",
    "\n",
    "print(boomerang(ex))"
   ]
  },
  {
   "cell_type": "markdown",
   "metadata": {},
   "source": [
    "## PDS_Test_16\n",
    "### Exercise 2 (10 points).\n",
    "\n",
    "A left-truncatable prime is a prime number that contains no 0 digits and, when the first digit is successively removed, the result is always prime. A right-truncatable prime is a prime number that contains no 0 digits and, when the last digit is successively removed, the result is always prime. Create a function that takes an integer as an argument and:\n",
    "\n",
    "- If the integer is only a left-truncatable prime, return \"left\".\n",
    "- If the integer is only a right-truncatable prime, return \"right\".\n",
    "- If the integer is both, return \"both\".\n",
    "- Otherwise, return False.\n",
    "\n",
    "<b>truncatable(9137) ➞ \"left\"</b> # Because 9137, 137, 37 and 7 are all prime.\n",
    "\n",
    "<b>truncatable(5939) ➞ \"right\"</b> # Because 5939, 593, 59 and 5 are all prime.\n",
    "\n",
    "<b>truncatable(317) ➞ \"both\"</b> # Because 317, 17 and 7 are all prime and 317, 31 and 3 are all prime. \n",
    "\n",
    "<b>truncatable(5) ➞ \"both\"</b> # The trivial case of single-digit primes is treated as truncatable from both directions.\n",
    "\n",
    "<b>truncatable(139) ➞ False </b> # 1 and 9 are non-prime, so 139 cannot be truncatable from either direction.\n",
    "\n",
    "<b>truncatable(103) ➞ False </b># Because it contains a 0 digit (even though 103 and 3 are primes)."
   ]
  },
  {
   "cell_type": "code",
   "execution_count": 46,
   "metadata": {},
   "outputs": [
    {
     "name": "stdout",
     "output_type": "stream",
     "text": [
      "Left\n"
     ]
    }
   ],
   "source": [
    "# solutions\n",
    "def prime(x):\n",
    "    for i in range(1,100):\n",
    "        if (i!=1) and (i!=x):\n",
    "            if x%i==0:\n",
    "                return False\n",
    "            else:\n",
    "                continue\n",
    "    return True\n",
    "def truncatable(x):\n",
    "    x=str(x)\n",
    "    if \"0\" in x:\n",
    "        return \"No trunc\"\n",
    "    for i in range(len(x)-1):\n",
    "        if prime(int(x[i+1:]))== True and prime(int(x[0:-i-1]))==True:\n",
    "            return \"both\"\n",
    "        if prime(int(x[i+1:]))== True:\n",
    "                 return \"Left\"\n",
    "        if prime(int(x[0:-i-1]))== True:\n",
    "            return \"Right\"\n",
    "print(truncatable(5929))"
   ]
  },
  {
   "cell_type": "code",
   "execution_count": 7,
   "metadata": {},
   "outputs": [],
   "source": [
    "def is_prime(val):\n",
    "    if val == 1: # if the val is 1 which is not prime\n",
    "        return 0\n",
    "    count = 2\n",
    "    while count < val:\n",
    "        if val % count == 0: # we check if there is any reminder\n",
    "            return 0\n",
    "        count += 1\n",
    "    return 1\n",
    "\n",
    "def truncatable(num):\n",
    "    r_trunk = []\n",
    "    l_trunk = []\n",
    "    num_str = str(num)\n",
    "    for i in range(len(num_str)):\n",
    "        r_trunk.append(int(num_str[:i+1]))\n",
    "        l_trunk.append(int(num_str[i:]))\n",
    "        \n",
    "    # creating a list with all return values from function]\n",
    "    r_prime = [is_prime(i) for i in r_trunk]\n",
    "    l_prime = [is_prime(l) for l in l_trunk]\n",
    "   \n",
    "    if \"0\" in num_str:\n",
    "        return \"no trunc\"\n",
    "    elif 0 not in l_prime and 0 not in r_prime:\n",
    "        return \"both\"\n",
    "    elif 0 not in l_prime:\n",
    "        return \"left trunc\"\n",
    "    elif 0 not in r_prime:\n",
    "        return \"right trunc\"\n",
    "    return \"False\""
   ]
  },
  {
   "cell_type": "markdown",
   "metadata": {},
   "source": [
    "## File number 15 and 16 are copy of each other"
   ]
  },
  {
   "cell_type": "markdown",
   "metadata": {},
   "source": [
    "## PDS_Test_14\n",
    "### Exercise 1 (10 points).\n",
    "Write a python function max_value_intersect(L, S) that takes as input a list of integers L (randomly chosen in [0, 9]), with |L| > 0 , and a set of lists of integers (from the same domain) S. Then for each pair (L, s):\n",
    "1. checks that both lists do not contain repeated values: if repeated values are present remove them;\n",
    "2. computes the intersection among the two lists;\n",
    "3. sum all the values in the intersection.\n",
    "4. returns the tuple (L, s, I, v) where ​s is the set that generates the intersection ​I having\n",
    "maximal internal sum ​v.\n",
    "\n",
    "NOTE: You cannot use any external library or built-in Python tool. The exercises will be otherwise\n",
    "evaluated 0.\n"
   ]
  },
  {
   "cell_type": "code",
   "execution_count": 8,
   "metadata": {},
   "outputs": [],
   "source": [
    "def max_value_intersect(L, S):\n",
    "    l = []\n",
    "    v = 0\n",
    "    for num in L:\n",
    "        if num in S:\n",
    "            # add values that are in both lists\n",
    "            l.append(num)\n",
    "    # calculate the sum of intersection    \n",
    "    for m in l:\n",
    "        v+= m\n",
    "    return (L, S, l, v)"
   ]
  },
  {
   "cell_type": "code",
   "execution_count": 9,
   "metadata": {},
   "outputs": [
    {
     "name": "stdout",
     "output_type": "stream",
     "text": [
      "L is: [5, 3, 4, 7, 8]\n",
      "S is: [1, 2, 3, 4, 7]\n",
      "l is:[3, 4, 7]\n",
      "Sum is: 14\n"
     ]
    }
   ],
   "source": [
    "L = [5, 3, 4, 7, 8]\n",
    "S = [1, 2, 3, 4, 7]\n",
    "\n",
    "L, S, l, v = max_value_intersect(L, S)\n",
    "print(f\"L is: {L}\\nS is: {S}\\nl is:{l}\\nSum is: {v}\")"
   ]
  },
  {
   "cell_type": "markdown",
   "metadata": {},
   "source": [
    "## PDS_Test_14\n",
    "### Exercise 2 (10 points).\n",
    "A DNA string is a string built on an alphabet of 4 characters: ​A, T, G, and C. ​In bioinformatics a k-mer is a substring of ​k characters from a string that is longer than ​k​. Write a function <b>KMer(s,k)</b> with two parameters: a DNA string and the value of k. Return a dictionary of k-mer counts. \n",
    "\n",
    "<b>BONUS</b>: store in the dictionary the list of positions from where each ​k-mer​ starts.\n",
    "\n",
    "Example: <b>KMer(GTAGAGTAGT, 3)</b> → {“GTA”:2, “TAG”:2, “AGT”:2, “AGA”:1, “GAG”:1}\n",
    "\n",
    "BONUS Example: <b>KMer(GTAGAGTAGT, 3)</b> → {“GTA”:[0,5], “TAG”:[1,6], “AGT”:[4,7], “AGA”:[2],“GAG”:[3]}"
   ]
  },
  {
   "cell_type": "code",
   "execution_count": 10,
   "metadata": {},
   "outputs": [],
   "source": [
    "def KMer(s, k):\n",
    "    all_pair = []\n",
    "    count = {}\n",
    "    place = {}\n",
    "    for i in range(len(s)-2):\n",
    "        all_pair.append(s[i:i+k])\n",
    "    # check if a key exsists in the dictionary\n",
    "    for pattern in all_pair:\n",
    "        if pattern in count:\n",
    "            count[pattern] += 1\n",
    "        else:\n",
    "            count[pattern] = 1\n",
    "    for pattern in set(all_pair):\n",
    "        place[pattern] = [s.index(pattern),s.index(pattern) + k]\n",
    "    \n",
    "    return (count, place)"
   ]
  },
  {
   "cell_type": "code",
   "execution_count": 11,
   "metadata": {},
   "outputs": [
    {
     "name": "stdout",
     "output_type": "stream",
     "text": [
      "{'GTA': 2, 'TAG': 2, 'AGA': 1, 'GAG': 1, 'AGT': 2}\n",
      "{'AGT': [4, 7], 'AGA': [2, 5], 'TAG': [1, 4], 'GAG': [3, 6], 'GTA': [0, 3]}\n"
     ]
    }
   ],
   "source": [
    "count, place = KMer(\"GTAGAGTAGT\", 3) \n",
    "print(count, place, sep='\\n')"
   ]
  },
  {
   "cell_type": "markdown",
   "metadata": {},
   "source": [
    "# PDS_Test_13\n",
    "\n",
    "## Exercise 1 (10 points).\n",
    "Write a python function ones(x) that takes as input an integer x, computes its binary representation and returns the length of the maximal subsequence of adjacent 1s in such bitstring.\n",
    "\n",
    "NOTE: You cannot use any external library or tool. The exercise will be otherwise evaluated 0."
   ]
  },
  {
   "cell_type": "code",
   "execution_count": 6,
   "metadata": {},
   "outputs": [],
   "source": [
    "def get_binary_string(q):\n",
    "    r = \"\"\n",
    "    while q > 0:\n",
    "        r += str(q % 2)\n",
    "        q = q // 2\n",
    "     \n",
    "    return r[::-1]\n",
    "\n",
    "def ones(bi):\n",
    "    count = 0\n",
    "    max_count = 0\n",
    "    for i in bi:\n",
    "        if i == \"1\":\n",
    "            count += 1\n",
    "            if count > max_count:\n",
    "                max_count = count\n",
    "        else:\n",
    "            count = 0\n",
    "    return max_count"
   ]
  },
  {
   "cell_type": "code",
   "execution_count": 7,
   "metadata": {},
   "outputs": [
    {
     "data": {
      "text/plain": [
       "3"
      ]
     },
     "execution_count": 7,
     "metadata": {},
     "output_type": "execute_result"
    }
   ],
   "source": [
    "ones(get_binary_string(7))"
   ]
  },
  {
   "cell_type": "markdown",
   "metadata": {},
   "source": [
    "# PDS_Test_13\n",
    "\n",
    "## Exercise 2 (10 points).\n",
    "Write a python function max_and(S, n) that takes as input an integer n>0 and a set S of nonnegative integers with n ≤ |S| and returns\n",
    "\n",
    "max{t1..., tn}⊆ S (t1 &... & tn)\n",
    "\n",
    "where x&y is the bit-to-bit ​and​ operator between integers.\n",
    "\n",
    "Es. With S = {7, 9, 3, 5}, the function returns 5 (or 101)"
   ]
  },
  {
   "cell_type": "code",
   "execution_count": 9,
   "metadata": {},
   "outputs": [
    {
     "name": "stdout",
     "output_type": "stream",
     "text": [
      "3\n"
     ]
    }
   ],
   "source": [
    "S = {7,9,3,5}\n",
    "\n",
    "def max_and(S,n):\n",
    "    L = []\n",
    "    for el in S:\n",
    "        result = el & n\n",
    "        L.append(result)\n",
    "    return max(L)\n",
    "print(max_and(S,3))"
   ]
  },
  {
   "cell_type": "markdown",
   "metadata": {},
   "source": [
    "I didn't get what is this bit-to-bit mean"
   ]
  },
  {
   "cell_type": "markdown",
   "metadata": {},
   "source": [
    "# PDS_Test_12\n",
    "\n",
    "## Exercise 1.\n",
    "\n",
    "Write a Python function ​incl_excl(L)​ that:\n",
    "- takes as input a list of lists, L, whose elements represent sets of integers;\n",
    "- checks that all elements of each set are integers and that no repetitions are present in each set\n",
    "(otherwise, raise a ValueError);\n",
    "- computes the generalized inclusion-exclusion of all sets in L (hint: as an intermediate step you\n",
    "have to compute the power set of L)​;\n",
    "- prints the result.\n",
    "\n",
    "Note​:\n",
    "- You cannot use any external library or tool.\n",
    "- You cannot use Python sets operators: if needed, set intersection, union, difference have to be implemented from scratch.\n",
    "\n",
    "The exercise will be otherwise evaluated 0.\n"
   ]
  },
  {
   "cell_type": "code",
   "execution_count": 5,
   "metadata": {},
   "outputs": [],
   "source": [
    "l = [3, 5, 6, 9, 8, 18]"
   ]
  },
  {
   "cell_type": "code",
   "execution_count": 6,
   "metadata": {},
   "outputs": [
    {
     "name": "stdout",
     "output_type": "stream",
     "text": [
      "3\n",
      "5\n",
      "6\n",
      "9\n",
      "8\n",
      "18\n"
     ]
    }
   ],
   "source": [
    "for i in range(len(l)):\n",
    "    print(l[i])\n",
    "    if not isinstance(l[i], int) or l[i] in  l[i+1:]:\n",
    "        raise ValueError\n",
    "\n"
   ]
  },
  {
   "cell_type": "code",
   "execution_count": 7,
   "metadata": {},
   "outputs": [],
   "source": [
    "L = [[1,2,3], [1,2,3,4]]\n",
    "\n",
    "def powerset(L):\n",
    "    # we start with an empty list \n",
    "    # as power set has also the empty set\n",
    "    powerset = [[]]\n",
    "    # here we take the first list\n",
    "    for el in L:\n",
    "        \n",
    "        for p in range(len(powerset)):\n",
    "            powerset.append([el]+powerset[p])\n",
    "            \n",
    "    return powerset\n",
    "\n",
    "def listIntersect(L):\n",
    "    union = {}\n",
    "    for l in L:\n",
    "        for el in l:\n",
    "            if el not in union:\n",
    "                union[el] = 1\n",
    "            else:\n",
    "                union[el] += 1\n",
    "                \n",
    "    intersection = [key for key in union if union[key] == len(L)]  \n",
    "    \n",
    "    return intersection\n",
    "\n",
    "def incl_excl(L):\n",
    "    for subset in L:\n",
    "        for i in range(len(subset)):\n",
    "            if subset[i] in subset[i+1:] or subset[i] != int(subset[i]):\n",
    "                raise ValueError\n",
    "    incl_excl = 0\n",
    "    powersets = powerset(L)\n",
    "    for el in powersets:\n",
    "        if len(el) == 1:\n",
    "            incl_excl += len(el[0])\n",
    "        elif len(el) % 2 == 0:\n",
    "            incl_excl -= len(listIntersect(el))\n",
    "        else:\n",
    "            incl_excl += len(listIntersect(el))\n",
    "\n",
    "    return incl_excl\n",
    "\n",
    "incl_excl(L)"
   ]
  },
  {
   "cell_type": "code",
   "execution_count": 9,
   "metadata": {},
   "outputs": [
    {
     "name": "stdout",
     "output_type": "stream",
     "text": [
      "[]\n",
      "[4]\n",
      "[5]\n",
      "[4, 5]\n",
      "[6]\n",
      "[4, 6]\n",
      "[5, 6]\n",
      "[4, 5, 6]\n"
     ]
    }
   ],
   "source": [
    "def powerset(s):\n",
    "    x = len(s)\n",
    "    for i in range(1 << x):\n",
    "        print([s[j] for j in range(x) if (i & (1 << j))])\n",
    "\n",
    "powerset([4,5,6])"
   ]
  },
  {
   "cell_type": "code",
   "execution_count": 10,
   "metadata": {},
   "outputs": [
    {
     "data": {
      "text/plain": [
       "[[], [4], [5], [5, 4], [6], [6, 4], [6, 5], [6, 5, 4]]"
      ]
     },
     "execution_count": 10,
     "metadata": {},
     "output_type": "execute_result"
    }
   ],
   "source": [
    "def powerset(L):\n",
    "    # we start with an empty list \n",
    "    # as power set has also the empty set\n",
    "    powerset = [[]]\n",
    "    # here we take the first list\n",
    "    for el in L:\n",
    "        \n",
    "        for p in range(len(powerset)):\n",
    "            powerset.append([el]+powerset[p])\n",
    "            \n",
    "    return powerset\n",
    "powerset([4,5,6])"
   ]
  },
  {
   "cell_type": "markdown",
   "metadata": {},
   "source": [
    "# PDS_Test_12\n",
    "\n",
    "## Exercise 2. \n",
    "Write a Python function ​countNeighbors() ​that takes in input a piece of text ​S (a sequence of lower case strings separated by either white space or newline). Given a word ​w in ​S​, let us\n",
    "call the ​previous word ​and the ​next word of ​w​, the previous and the next word of ​w in ​S​, respectively. countNeighbors() returns two sets: ​SP and ​SN​, where ​SP is the set of all words in ​S with the highest number of distinct previous words; and ​NP is the set of all words in ​S with the highest number of distinct next words.\n",
    "\n",
    "Example​: Let ​S​ be “in these days it would nice that these days would be sufficiently be days will come”. The previous word of ​these​ is ​in​, and its next word is ​days​.\n",
    "The previous words of ​days​ are ​these ​and​ be​, and its next words are ​it​,​ would​ and ​will\n",
    "In the above example: SP = {days, be}, and SN = {days}.\n"
   ]
  },
  {
   "cell_type": "code",
   "execution_count": 42,
   "metadata": {},
   "outputs": [
    {
     "name": "stdout",
     "output_type": "stream",
     "text": [
      "{'these': {'in', 'that'}, 'days': {'these', 'be'}, 'it': {'days'}, 'would': {'days', 'it'}, 'nice': {'would'}, 'that': {'nice'}, 'be': {'sufficiently', 'would'}, 'sufficiently': {'be'}, 'will': {'days'}}\n",
      "\n",
      "{'these': {'days'}, 'days': {'will', 'it', 'would'}, 'it': {'would'}, 'would': {'be', 'nice'}, 'nice': {'that'}, 'that': {'these'}, 'be': {'days', 'sufficiently'}, 'sufficiently': {'be'}, 'will': {'come'}}\n",
      "\n"
     ]
    },
    {
     "data": {
      "text/plain": [
       "({'be', 'days', 'these', 'would'}, {'be', 'would'})"
      ]
     },
     "execution_count": 42,
     "metadata": {},
     "output_type": "execute_result"
    }
   ],
   "source": [
    "stringa = \"in these days it would nice that these days would be sufficiently be days will come\"\n",
    "def countNeightbors(stringa):\n",
    "    lista = stringa.split()\n",
    "    dictionaryP = {}\n",
    "    dictionaryN = {}\n",
    "    for i in range(1, len(lista)-1):\n",
    "        if lista[i] not in dictionaryP:\n",
    "            dictionaryP[lista[i]] = {lista[i-1]}\n",
    "        else:\n",
    "            dictionary = dictionaryP[lista[i]] \n",
    "            dictionary = dictionary | {lista[i-1]}\n",
    "            dictionaryP[lista[i]] = dictionary\n",
    "        if lista[i] not in dictionaryN:\n",
    "            dictionaryN[lista[i]] = {lista[i+1]}\n",
    "        else:\n",
    "            dictionary = dictionaryN[lista[i]] \n",
    "            dictionary = dictionary | {lista[i+1]}\n",
    "            dictionaryN[lista[i]] = dictionary\n",
    "    \n",
    "    \n",
    "\n",
    "    print(dictionaryP)\n",
    "    print()\n",
    "    print(dictionaryN)\n",
    "\n",
    "    print()\n",
    "    SP = {key for key in dictionaryP if len(dictionaryP[key]) == len(max(dictionaryP.values()))}\n",
    "    SN = {key for key in dictionaryN if len(dictionaryN[key]) == len(max(dictionaryN.values()))}\n",
    "\n",
    "    return SP, SN\n",
    "countNeightbors(stringa)"
   ]
  },
  {
   "cell_type": "code",
   "execution_count": 37,
   "metadata": {},
   "outputs": [
    {
     "ename": "AttributeError",
     "evalue": "'list' object has no attribute 'length'",
     "output_type": "error",
     "traceback": [
      "\u001b[0;31m---------------------------------------------------------------------------\u001b[0m",
      "\u001b[0;31mAttributeError\u001b[0m                            Traceback (most recent call last)",
      "\u001b[0;32m<ipython-input-37-f30ea53eeed6>\u001b[0m in \u001b[0;36m<module>\u001b[0;34m\u001b[0m\n\u001b[1;32m      1\u001b[0m \u001b[0mlss\u001b[0m \u001b[0;34m=\u001b[0m \u001b[0mstringa\u001b[0m\u001b[0;34m.\u001b[0m\u001b[0msplit\u001b[0m\u001b[0;34m(\u001b[0m\u001b[0;34m)\u001b[0m\u001b[0;34m\u001b[0m\u001b[0;34m\u001b[0m\u001b[0m\n\u001b[0;32m----> 2\u001b[0;31m \u001b[0mlss\u001b[0m\u001b[0;34m.\u001b[0m\u001b[0mlength\u001b[0m\u001b[0;34m\u001b[0m\u001b[0;34m\u001b[0m\u001b[0m\n\u001b[0m",
      "\u001b[0;31mAttributeError\u001b[0m: 'list' object has no attribute 'length'"
     ]
    }
   ],
   "source": [
    "lss = stringa.split()\n",
    "lss.length"
   ]
  },
  {
   "cell_type": "code",
   "execution_count": 45,
   "metadata": {},
   "outputs": [
    {
     "name": "stdout",
     "output_type": "stream",
     "text": [
      "{'these': ['in', 'that'], 'days': ['these', 'these', 'be'], 'it': ['days'], 'would': ['it', 'days'], 'nice': ['would'], 'that': ['nice'], 'be': ['would', 'sufficiently'], 'sufficiently': ['be'], 'will': ['days'], 'come': ['will']}\n",
      "\n",
      "{'these': ['these', 'days'], 'days': ['days', 'would', 'will'], 'it': ['it'], 'would': ['would', 'be'], 'nice': ['nice'], 'that': ['that'], 'be': ['be', 'days'], 'sufficiently': ['sufficiently'], 'will': ['will'], 'come': ['come']}\n"
     ]
    }
   ],
   "source": [
    "stringa = \"in these days it would nice that these days would be sufficiently be days will come\"\n",
    "\n",
    "\n",
    "\n",
    "s_l = stringa.split()\n",
    "dic_p = {}\n",
    "dic_n = {}\n",
    "for i in range(1, len(s_l)):\n",
    "    if s_l[i] not in dic_p:\n",
    "        dic_p[s_l[i]] = [s_l[i-1]]\n",
    "    else:\n",
    "        dic_p[s_l[i]].append(s_l[i-1])\n",
    "\n",
    "    if s_l[i] not in dic_n:\n",
    "        dic_n[s_l[i]] = [s_l[i]]\n",
    "    else:\n",
    "        dic_n[s_l[i]].append(s_l[i+1])\n",
    "\n",
    "print(dic_p)\n",
    "print()\n",
    "print(dic_n)        "
   ]
  },
  {
   "cell_type": "code",
   "execution_count": 47,
   "metadata": {},
   "outputs": [
    {
     "name": "stdout",
     "output_type": "stream",
     "text": [
      "dict_values([['in', 'that'], ['these', 'these', 'be'], ['days'], ['it', 'days'], ['would'], ['nice'], ['would', 'sufficiently'], ['be'], ['days'], ['will']])\n",
      "['would', 'sufficiently']\n"
     ]
    }
   ],
   "source": [
    "print(dic_p.values())\n",
    "print( max(dic_p.values()))"
   ]
  },
  {
   "cell_type": "markdown",
   "metadata": {},
   "source": [
    "# PDS_Test_11\n",
    "\n",
    "## Exercise 1 (10 points). \n",
    "\n",
    "Consider a list of strings ​S = [s​1,​ ..., s​n]​ ​, and let ​K be a natural number. We define the type of ​S​ as:\n",
    "\n",
    "- ‘enumerated’​if there are at most ​K​ distinct ​strings among ​s​1,​ ..., s​n;​ and if not,\n",
    "- ‘numeric’​if ​all ​strings can be converted to a number; and if not,\n",
    "- ‘string’ otherwise.\n",
    "\n",
    "The list can be accessed ​sequentially ​from ​s​1 t​ o ​s​n ​only once​. Write a Python function ​ArffType(S, K) which returns the type of ​S​.\n",
    "\n",
    "ArffType([‘3’, ‘4’, ‘1.2’, ‘4’], 2) # returns ‘numeric’ ArffType([‘3’, ‘4’, ‘1.2’, ‘4’], 3) # returns ‘enumerated’ ArffType([‘3’, ‘hello’, ‘1.2’, ‘4’], 2) # returns ‘string’ ArffType([‘3’, ‘hello’, ‘1.2’, ‘4’], 4) # returns ‘enumerated’\n",
    "\n",
    "NOTE: You cannot use any external library or tool. The exercise will be otherwise evaluated 0."
   ]
  },
  {
   "cell_type": "code",
   "execution_count": 19,
   "metadata": {},
   "outputs": [],
   "source": [
    "S = ['3', '4','1.2', '4']\n",
    "S1 = ['3', 'hello','1.2', '4']"
   ]
  },
  {
   "cell_type": "code",
   "execution_count": 24,
   "metadata": {},
   "outputs": [],
   "source": [
    "def ArffType(s, k):\n",
    "    set_now = set()\n",
    "    count = 0\n",
    "    numeric = True\n",
    "    \n",
    "    for i in s:\n",
    "        if i not in set_now:\n",
    "            set_now.add(i)\n",
    "        try:\n",
    "            float(i)\n",
    "        except:\n",
    "            numeric = False\n",
    "            \n",
    "    if len(set_now) <= k:\n",
    "        return 'enumerated'\n",
    "    if numeric:\n",
    "        return 'numeric'\n",
    "    else:\n",
    "        return 'string'"
   ]
  },
  {
   "cell_type": "code",
   "execution_count": 28,
   "metadata": {},
   "outputs": [
    {
     "name": "stdout",
     "output_type": "stream",
     "text": [
      "The answers should be _numeric_ and answers is: numeric\n",
      "The answers should be _enumerated_ and answers is: enumerated\n",
      "The answers should be _string_ and answers is: string\n",
      "The answers should be _enumerated_ and answers is: enumerated\n"
     ]
    }
   ],
   "source": [
    "print(\"The answers should be _numeric_ and answers is:\", ArffType(S,2))\n",
    "print(\"The answers should be _enumerated_ and answers is:\", ArffType(S,3))\n",
    "print(\"The answers should be _string_ and answers is:\", ArffType(S1,2))\n",
    "print(\"The answers should be _enumerated_ and answers is:\", ArffType(S1,4))"
   ]
  },
  {
   "cell_type": "markdown",
   "metadata": {},
   "source": [
    "# PDS_Test_11\n",
    "\n",
    "## Exercise 2 (10 points). \n",
    "\n",
    "​An anagram is a type of word play: the result of rearranging the letters of a word or phrase to produce a new word or phrase, using all the original letters exactly once; e.g., orchestra = carthorse. The new word has to be a word existing in the language (english, in our case).\n",
    "\n",
    "Write a Python program ​anagram.py that, given a word input by the user, find all the anagrams, placing them in a list, and then prints the list. To verify whether you are producing an actual English word, check the “potential” anagram against the words contained in the downloaded file ​wordsList.txt​.\n",
    "\n",
    "Finally, make ​anagram.py​ a module, and write another program that uses the just developed functionality. \n",
    "\n",
    "### 2 extra points if your code is designed to work efficiently with word files of big size."
   ]
  },
  {
   "cell_type": "code",
   "execution_count": 50,
   "metadata": {},
   "outputs": [
    {
     "data": {
      "text/plain": [
       "['a', 'e', 'i', 'l', 'n', 'o', 'p', 't', 't']"
      ]
     },
     "execution_count": 50,
     "metadata": {},
     "output_type": "execute_result"
    }
   ],
   "source": [
    "word = \"potential\"\n",
    "ch = list(word)\n",
    "ch\n",
    "sorted(ch)"
   ]
  },
  {
   "cell_type": "markdown",
   "metadata": {},
   "source": [
    "# PDS_Test_10\n",
    "\n",
    "## Exercise 1 (10 points).​ ​[sets] ​Write a Python class ​PowerS ​such that:\n",
    "1. It has one class variable, called ​S​, that is a set.\n",
    "2. It has a constructor that creates S with ​n integers, where ​n is a randomly chosen number between 1 and 10. The integers contained in ​S​ are randomly chosen integers between -50 and 50.\n",
    "3. It has a method ​powerSet()​, that generates and prints the power set of S​ ​.\n",
    "4. It has a method to print the content of ​S​.\n",
    "\n",
    "Then, create an object ​PS​ of the class ​PowerS​,​ ​and call on ​PS​ all of its methods.\n",
    "\n",
    "### NOTE: You cannot use any external library or tool. The exercise will be otherwise evaluated 0.\n"
   ]
  },
  {
   "cell_type": "code",
   "execution_count": null,
   "metadata": {},
   "outputs": [],
   "source": []
  },
  {
   "cell_type": "markdown",
   "metadata": {},
   "source": [
    "# PDS_Test_10\n",
    "\n",
    "## Exercise 2 (10 points).​ ​[statistics]\n",
    "1. The ​mode of a list ​L of values is given by the ​most frequently occurring number in ​L​. Write a Python function ​mode(L) ​that, ​using a dictionary​, returns as a list the mode of ​L.​\n",
    "\n",
    "Example: [1,4,5,4,6,5,4,1,4] → [4] ; [1,4,5,6,5,4,1] → [1,4,5]\n",
    "\n",
    "2. Given a list ​L of pairs of natural numbers representing closed intervals, write a ​recursive Pyhton function ​minint() that takes in input such a list, and returns the smallest interval that encloses all intervals in ​L​. The empty interval is represented by the value 0.\n",
    "\n",
    "Example: [(2,4),(3,5),(3,6)] → (2,6)\n",
    "\n",
    "### NOTE: You cannot use any ​predefined Python function. The exercise will be otherwise evaluated 0.\n"
   ]
  },
  {
   "cell_type": "code",
   "execution_count": 55,
   "metadata": {},
   "outputs": [
    {
     "name": "stdout",
     "output_type": "stream",
     "text": [
      "{1: 2, 4: 3, 5: 2, 6: 1}\n"
     ]
    },
    {
     "data": {
      "text/plain": [
       "3"
      ]
     },
     "execution_count": 55,
     "metadata": {},
     "output_type": "execute_result"
    }
   ],
   "source": [
    "l1 = [1,4,5,4,6,5,4,1] \n",
    "num_d = {}\n",
    "\n",
    "for n in l1:\n",
    "    if n not in num_d:\n",
    "        num_d[n] = 1\n",
    "    else:\n",
    "        num_d[n] += 1\n",
    "print(num_d)\n",
    "max(num_d.values())"
   ]
  },
  {
   "cell_type": "code",
   "execution_count": 57,
   "metadata": {},
   "outputs": [
    {
     "name": "stdout",
     "output_type": "stream",
     "text": [
      "[4]\n",
      "[1, 4, 5]\n"
     ]
    }
   ],
   "source": [
    "A = [1,4,5,6,5,4,1]\n",
    "B = [1,4,5,4,6,5,4,1,4]\n",
    "\n",
    "def mode(A):    \n",
    "    d = {}\n",
    "    for el in A:\n",
    "        if el not in d:\n",
    "            d[el] = 1\n",
    "        else:\n",
    "            d[el] += 1\n",
    "    R = []\n",
    "    for x in d:\n",
    "        if d[x] == max(d.values()):\n",
    "            R.append((x))\n",
    "    return R\n",
    "        \n",
    "print(mode(B))\n",
    "print(mode(A))"
   ]
  },
  {
   "cell_type": "markdown",
   "metadata": {},
   "source": [
    "# PDS_Test_09\n",
    "\n",
    "## Exercise1(10points).​ ​[2’sComplementSum]\n",
    "Implement a Python function ​cpt2sum() that takes as input two bitstring, each representing the 2's complement of an integer. The representation should use ​8 bits​ (one encoding the sign).\n",
    "cpt2sum(a, b)​ has to:\n",
    "\n",
    "1. Check the correctness of the input ensuring both the length and the absence of erroneous characters (i.e., characters outside the binary alphabet). If such requirements are not satisfied, cpt2sum​ has to raise an error.\n",
    "2. Compute the sum of ​a​ and ​b​ ​without​ changing their base.\n",
    "3. Return a tuple of four elements (​sum​, ​sum10​, ​a10​, ​b10​) composed by the computed result, its representations in base 10, the representations in base 10 of both ​a​ and ​b​.\n",
    "\n",
    "Example:​\n",
    "a=11111010 b=00000101 → (11111111, -1, -6, 5) a=01103000 b=000100101 → Error!"
   ]
  },
  {
   "cell_type": "code",
   "execution_count": 61,
   "metadata": {},
   "outputs": [
    {
     "name": "stdout",
     "output_type": "stream",
     "text": [
      "('11111111', -1, -6, 5)\n"
     ]
    }
   ],
   "source": [
    "a = '11111010'\n",
    "b = '00000101'\n",
    "\n",
    "def complement(a):\n",
    "    if a[0] == \"1\": #il risultato è negativo\n",
    "        risultato = \"\"\n",
    "        for digit in a:\n",
    "            if digit == \"1\":\n",
    "                risultato += \"0\"\n",
    "            else:\n",
    "                risultato += \"1\"\n",
    "        risultato = ~int(risultato,2) #complementare a 2 dell'intero\n",
    "    else:\n",
    "        risultato = int(a,2)\n",
    "    return risultato\n",
    "    \n",
    "\n",
    "def cmp2sum(a,b):\n",
    "    \n",
    "    if len(a) != 8 or len(b) != 8:\n",
    "        raise ValueError(\"len must be 8\")\n",
    " \n",
    "    for element in a:\n",
    "        if element == '0' or element == '1':\n",
    "            continue\n",
    "        else:\n",
    "            raise ValueError(\"only 0, 1 allowed\") \n",
    "    for element in b:\n",
    "        if element == '0' or element == '1':\n",
    "            continue\n",
    "        else:\n",
    "            raise ValueError(\"only 0, 1 allowed\") \n",
    "    str = \"\"\n",
    "    for i in range(len(a)):\n",
    "        if a[i] == b[i] and b[i] == \"1\":\n",
    "            str += \"1\"\n",
    "        if a[i] == b[i] and b[i] == \"0\":\n",
    "            str += \"0\"\n",
    "        if a[i] != b[i]:\n",
    "            str += \"1\"\n",
    "       \n",
    "    return str, complement(str), complement(a), complement(b)\n",
    "\n",
    "\n",
    "\n",
    "\n",
    "print(cmp2sum(a,b))"
   ]
  },
  {
   "cell_type": "code",
   "execution_count": null,
   "metadata": {},
   "outputs": [],
   "source": []
  },
  {
   "cell_type": "markdown",
   "metadata": {},
   "source": [
    "# PDS_Test_09\n",
    "\n",
    "## Exercise 2 (10 points).​ ​[permutations] Write a Python class ​PermSet​ such that:\n",
    "1. It has one class variable, called ​Ls​, that is a list of sets of 3 integers.\n",
    "2. It has a constructor that creates ​Ls with ​n sets, where ​n is a randomly chosen number between 1 and 10. The three integers contained in each set are randomly chosen integers between -50 and 150.\n",
    "3. It has a method ​GeneratePerm()​, that generates and prints all permutation of the elements in ​Ls​.\n",
    "4. It has a method to print the content of ​Ls​.\n",
    "\n",
    "Then, create an object ​PS​ of the class ​PermSet​,​ ​and call on ​PS​ all its methods.\n",
    "\n",
    "### NOTE: You cannot use any external library or tool. The exercise will be otherwise evaluated 0.\n"
   ]
  },
  {
   "cell_type": "code",
   "execution_count": 62,
   "metadata": {},
   "outputs": [],
   "source": [
    "import random"
   ]
  },
  {
   "cell_type": "code",
   "execution_count": 69,
   "metadata": {},
   "outputs": [
    {
     "name": "stdout",
     "output_type": "stream",
     "text": [
      "[3, 34, -36]\n",
      "[75, 76, -27]\n",
      "[31, 136, 115]\n",
      "[146, -1, 140]\n"
     ]
    }
   ],
   "source": [
    "n =3\n",
    "for i in range(1,5):\n",
    "    print([random.randint(-50, 150) for i in range(0,n)])"
   ]
  },
  {
   "cell_type": "markdown",
   "metadata": {},
   "source": [
    "# PDS_Test_08\n",
    "\n",
    "## Exercise 1. \n",
    "\n",
    "Consider a list ​L ​of triplets (e, s, v) where e is a string with the name of a university course, s is a student-id, and v is the grade of the student who passed the exam of the course. Write a Python function​ summary(L)​ that returns a dictionary mapping:\n",
    "- the pair (“list”, e) to the list of grades for course e\n",
    "- the pair (“exam”, s) to the list of exams passed by student s. For example:\n",
    "\n",
    "summary([(‘pds’, 1, 28), (‘pds’, 2, 25), (‘dm’, 1, 22), (‘dm’, 3, 30)] = { (‘list’, ‘pds’): [28, 25], (‘list’, ‘dm’:[22,30], (‘exam’,1)=[‘pds’,’dm’], (‘exam’, 2)=[‘pds’], (‘exam’, 3)=[‘dm’] }\n"
   ]
  },
  {
   "cell_type": "code",
   "execution_count": 75,
   "metadata": {},
   "outputs": [
    {
     "name": "stdout",
     "output_type": "stream",
     "text": [
      "{('list', 'pds'): [28, 25], ('exam', 1): ['pds', 'dm'], ('exam', 2): ['pds'], ('list', 'dm'): [22, 30], ('exam', 3): ['dm']}\n"
     ]
    }
   ],
   "source": [
    "L = [('pds', 1, 28), ('pds', 2, 25), ('dm', 1, 22), ('dm', 3, 30)]\n",
    "\n",
    "summary = {}\n",
    "\n",
    "for e, s, v in L:\n",
    "    if ('list', e) not in summary:\n",
    "        summary[('list', e)] = [v]\n",
    "    else:\n",
    "        summary[('list', e)].append(v)\n",
    "        \n",
    "    if ('exam', s) not in summary:\n",
    "        summary[('exam', s)] = [e]\n",
    "    else:\n",
    "        summary[('exam', s)].append(e)\n",
    "        \n",
    "print(summary)"
   ]
  },
  {
   "cell_type": "code",
   "execution_count": 76,
   "metadata": {},
   "outputs": [
    {
     "name": "stdout",
     "output_type": "stream",
     "text": [
      "{('list', 'pds'): [28, 25], ('list', 'dm'): [22, 30], ('exam', 1): ['pds', 'dm'], ('exam', 2): ['pds'], ('exam', 3): ['dm']}\n"
     ]
    }
   ],
   "source": [
    "A = [('pds', 1, 28), ('pds', 2, 25), ('dm',1,22),('dm',3,30)]\n",
    "\n",
    "def summary(A):\n",
    "    d = {}\n",
    "    for e,s,v in A:\n",
    "        if (\"list\",e) not in d:\n",
    "            d[(\"list\",e)] = [v]\n",
    "        else:\n",
    "            d[(\"list\",e)].append(v)\n",
    "    \n",
    "    for e,s,v in A:\n",
    "        if (\"exam\",s) not in d:\n",
    "            d[(\"exam\",s)] = [e]\n",
    "        else:\n",
    "            d[(\"exam\",s)].append(e)\n",
    "              \n",
    "    return d\n",
    "\n",
    "print(summary(A))"
   ]
  },
  {
   "cell_type": "markdown",
   "metadata": {},
   "source": [
    "# PDS_Test_08\n",
    "\n",
    "## Exercise 2. \n",
    "Write a Python function maxor(S, n) that given an integer ​n > 0 and a set ​S ​of non-negative integers, with ​n ≤ ​|​S​|, returns:\n",
    "\n",
    "![title](./img/pds_8.png)\n",
    "\n",
    "where x | y is the bit-to-bit or operator between integers. For example:\n",
    "\n",
    "maxor({2, 5, 13}, 1) = 13 \n",
    "\n",
    "maxor({2, 5, 13}, 2) = 15 \n",
    "\n",
    "maxor({2, 5, 13}, 3) = 15"
   ]
  },
  {
   "cell_type": "code",
   "execution_count": 77,
   "metadata": {},
   "outputs": [
    {
     "data": {
      "text/plain": [
       "3"
      ]
     },
     "execution_count": 77,
     "metadata": {},
     "output_type": "execute_result"
    }
   ],
   "source": [
    "2|1"
   ]
  },
  {
   "cell_type": "code",
   "execution_count": 78,
   "metadata": {},
   "outputs": [
    {
     "data": {
      "text/plain": [
       "5"
      ]
     },
     "execution_count": 78,
     "metadata": {},
     "output_type": "execute_result"
    }
   ],
   "source": [
    "5|1"
   ]
  },
  {
   "cell_type": "code",
   "execution_count": 79,
   "metadata": {},
   "outputs": [
    {
     "data": {
      "text/plain": [
       "13"
      ]
     },
     "execution_count": 79,
     "metadata": {},
     "output_type": "execute_result"
    }
   ],
   "source": [
    "13|1"
   ]
  },
  {
   "cell_type": "code",
   "execution_count": 82,
   "metadata": {},
   "outputs": [
    {
     "name": "stdout",
     "output_type": "stream",
     "text": [
      "2 | 2 = 2\n",
      "5 | 2 = 7\n",
      "13 | 2 = 15\n"
     ]
    }
   ],
   "source": [
    "n =2\n",
    "for i in [2,5,13]:\n",
    "    got = i|n\n",
    "    print(f\"{i} | {n} = {got}\")\n",
    "    "
   ]
  },
  {
   "cell_type": "code",
   "execution_count": 88,
   "metadata": {},
   "outputs": [
    {
     "data": {
      "text/plain": [
       "'0b111'"
      ]
     },
     "execution_count": 88,
     "metadata": {},
     "output_type": "execute_result"
    }
   ],
   "source": [
    "bin(7)"
   ]
  },
  {
   "cell_type": "code",
   "execution_count": 87,
   "metadata": {},
   "outputs": [
    {
     "data": {
      "text/plain": [
       "7"
      ]
     },
     "execution_count": 87,
     "metadata": {},
     "output_type": "execute_result"
    }
   ],
   "source": [
    "0b101 | 0b10"
   ]
  },
  {
   "cell_type": "code",
   "execution_count": 89,
   "metadata": {},
   "outputs": [
    {
     "name": "stdout",
     "output_type": "stream",
     "text": [
      "13\n",
      "15\n",
      "15\n"
     ]
    }
   ],
   "source": [
    "A = {2,5,13}\n",
    "\n",
    "def maxor(A, n):\n",
    "    L = []\n",
    "    for el in A:\n",
    "        L.append(el | n)\n",
    "    return max(L)\n",
    "        \n",
    "print(maxor(A,1))\n",
    "print(maxor(A,2))\n",
    "print(maxor(A,3))"
   ]
  },
  {
   "cell_type": "markdown",
   "metadata": {},
   "source": [
    "# PDS_Test_07\n",
    "\n",
    "## Exercise 1.​ Develop the following Python functions:\n",
    "1. Write a Python function ​reverse(x) ​to reverse the bits of an integer (assume 32 bits unsigned representation).\n",
    "\n",
    "### Ex: ​Input​: 14 → 0000....00001110 → (reversed) → 011100000....000 → ​Output​: 1879048192\n",
    "\n",
    "2. Write a Python function add_binary(x,y) ​to add two binary numbers ​x and ​y​. Inputs and output are represented as list of 0/1, and the function ​must work on such a representation​.\n",
    "\n",
    "### Ex: ​Input​: [1,1], [1] → ​Output​: [1,0,0]\n",
    "\n",
    "### Ex: ​Input​: [1,1,1], [1,1,1] → ​Output​: [1,1,1,0]\n",
    "\n",
    "3. Write a Python function ​duplicates(x) ​that for a list ​x = [v​1,​ ..., v​n]​ ​ ​returns ​[d​1,​ ..., d​n]​ ​ ​where: d​i​ = #{ j in [1,i] | v​j​ has a duplicate in x}\n",
    "\n",
    "### Ex: ​Input​: [‘a’, ‘b’, ‘a’, ‘c’] → ​Output​: [1,1,2,2]"
   ]
  },
  {
   "cell_type": "code",
   "execution_count": 110,
   "metadata": {},
   "outputs": [
    {
     "data": {
      "text/plain": [
       "0"
      ]
     },
     "execution_count": 110,
     "metadata": {},
     "output_type": "execute_result"
    }
   ],
   "source": [
    "0b100000 ^ 0b100000"
   ]
  },
  {
   "cell_type": "code",
   "execution_count": 111,
   "metadata": {},
   "outputs": [
    {
     "data": {
      "text/plain": [
       "64"
      ]
     },
     "execution_count": 111,
     "metadata": {},
     "output_type": "execute_result"
    }
   ],
   "source": [
    "0b1000000"
   ]
  },
  {
   "cell_type": "code",
   "execution_count": 113,
   "metadata": {},
   "outputs": [
    {
     "data": {
      "text/plain": [
       "0"
      ]
     },
     "execution_count": 113,
     "metadata": {},
     "output_type": "execute_result"
    }
   ],
   "source": [
    "1 ^ 1"
   ]
  },
  {
   "cell_type": "code",
   "execution_count": 108,
   "metadata": {},
   "outputs": [],
   "source": [
    "def reverse(q):\n",
    "    b = ''\n",
    "    while q != 0:\n",
    "        q = q // 2\n",
    "        r = q % 2\n",
    "        b += str(r)\n",
    "        \n",
    "    if len(b) != 32:\n",
    "        less = 32 - len(b)\n",
    "        b = (less * '0') + b \n",
    "    print(b)"
   ]
  },
  {
   "cell_type": "code",
   "execution_count": 109,
   "metadata": {},
   "outputs": [
    {
     "name": "stdout",
     "output_type": "stream",
     "text": [
      "00000000000000000000000000001110\n"
     ]
    }
   ],
   "source": [
    "to_binary(14)"
   ]
  },
  {
   "cell_type": "code",
   "execution_count": 101,
   "metadata": {},
   "outputs": [
    {
     "data": {
      "text/plain": [
       "6"
      ]
     },
     "execution_count": 101,
     "metadata": {},
     "output_type": "execute_result"
    }
   ],
   "source": [
    "len('python')"
   ]
  },
  {
   "cell_type": "code",
   "execution_count": 91,
   "metadata": {},
   "outputs": [
    {
     "data": {
      "text/plain": [
       "'0b1011'"
      ]
     },
     "execution_count": 91,
     "metadata": {},
     "output_type": "execute_result"
    }
   ],
   "source": [
    "bin(11)"
   ]
  },
  {
   "cell_type": "code",
   "execution_count": 94,
   "metadata": {},
   "outputs": [
    {
     "data": {
      "text/plain": [
       "22528"
      ]
     },
     "execution_count": 94,
     "metadata": {},
     "output_type": "execute_result"
    }
   ],
   "source": [
    "0b1011 << 0b1011"
   ]
  },
  {
   "cell_type": "markdown",
   "metadata": {},
   "source": [
    "# PDS_Test_07\n",
    "\n",
    "## Exercise 2. only one python exercise\n"
   ]
  },
  {
   "cell_type": "code",
   "execution_count": null,
   "metadata": {},
   "outputs": [],
   "source": []
  },
  {
   "cell_type": "markdown",
   "metadata": {},
   "source": [
    "# PDS_Test_06\n",
    "\n",
    "![some](./img/pds_6.png)"
   ]
  },
  {
   "cell_type": "code",
   "execution_count": null,
   "metadata": {},
   "outputs": [],
   "source": []
  },
  {
   "cell_type": "markdown",
   "metadata": {},
   "source": [
    "# PDS_Test_06\n",
    "\n",
    "## Exercise 2. \n",
    "\n",
    "Write a Python function ​listpair(S) ​that given a string ​S ​returns the list of all pairs of adjacent numbers in the string that are both odd or both even. The function must use regular expressions and cannot test for parity of a number. For example:\n",
    "\n",
    "listpair(‘32 is the double of 16 which is less than 17 but higher than 15’) = [(32, 16), (17, 15)]"
   ]
  },
  {
   "cell_type": "code",
   "execution_count": null,
   "metadata": {},
   "outputs": [],
   "source": []
  },
  {
   "cell_type": "markdown",
   "metadata": {},
   "source": [
    "# PDS_Test_05\n",
    "\n",
    "## Exercise 1. \n",
    "Consider a list ​L ​of triplets (e, s, v) where e is a string with the name of a university course, s is a student-id, and v is the grade of the student who passed the exam of the course. Write a Python function​ summary(L)​ that returns a dictionary mapping:\n",
    "- the pair (“avg”, e) to the average of grades for course e\n",
    "- the pair (“top”, e) to the list of students that passed exam e with top score. For example:\n",
    "\n",
    "summary([(‘pds’, 1, 28), (‘pds’, 2, 25), (‘pds’, 3, 28), (‘dm’, 1, 22), (‘dm’, 3, 30)]) = { (‘avg’, ‘pds’): 27, (‘avg’, ‘dm’):26, (‘top’,’pds’)=[1,3], (‘top’, ‘dm’)=[3]}"
   ]
  },
  {
   "cell_type": "code",
   "execution_count": null,
   "metadata": {},
   "outputs": [],
   "source": []
  },
  {
   "cell_type": "markdown",
   "metadata": {},
   "source": [
    "# PDS_Test_05\n",
    "![sothing](./img/pds_5.png)"
   ]
  },
  {
   "cell_type": "code",
   "execution_count": null,
   "metadata": {},
   "outputs": [],
   "source": []
  },
  {
   "cell_type": "markdown",
   "metadata": {},
   "source": [
    "# PDS_Test_04\n",
    "\n",
    "![fun](./img/pds_4.png)"
   ]
  },
  {
   "cell_type": "code",
   "execution_count": null,
   "metadata": {},
   "outputs": [],
   "source": []
  },
  {
   "cell_type": "markdown",
   "metadata": {},
   "source": [
    "# PDS_Test_04\n",
    "\n",
    "## Exercise 2 (8 points). \n",
    "Develop a Python function ​freqorder(l) that for an input list ​l returns a re-ordering of the list such that values are ordered by frequency in ​l​. \n",
    "\n",
    "For example, ​freqorder([3, 1, 3, 1, 3, 2l) = [3, 3, 3, 1, 1, 2]"
   ]
  },
  {
   "cell_type": "code",
   "execution_count": null,
   "metadata": {},
   "outputs": [],
   "source": []
  },
  {
   "cell_type": "markdown",
   "metadata": {},
   "source": [
    "# PDS_Test_03\n",
    "\n",
    "## Exercise 1 (8 points). \n",
    "Develop a Python function ​binextract(n, i, j) where ​n​, ​i​, and ​j are non-negative integers, which returns the number represented by the bits from the ​i​th (included) to ​j​th (excluded) of the binary representation of ​n​. For example, ​binextract(283, 2, 5) returns 6 because 283​10 = 1000​110​11 and 110​2 = 6. Then, develop a Python function ​binpack(n, m, i) where ​n​, ​m​, and ​i are non-negative integers, which returns the number obtained by setting the bits of ​n starting from the ​i​th (included) to the binary representation of ​m​. \n",
    "\n",
    "For example, ​binpack(283, 12, 2) returns 307 because 283​10 = 100011011, 12​10 = 1100 and 100​1100​11 = 307​10.​"
   ]
  },
  {
   "cell_type": "code",
   "execution_count": null,
   "metadata": {},
   "outputs": [],
   "source": []
  },
  {
   "cell_type": "markdown",
   "metadata": {},
   "source": [
    "# PDS_Test_03\n",
    "\n",
    "## Exercise 2 (8 points). \n",
    "\n",
    "Develop a Python function ​nequals1(l) that given a list ​l returns a list ​r such that ​r[i] is the number of elements in ​l equals to ​l[i]​. \n",
    "\n",
    "For example, ​nequals1([‘a’, ‘b’, ‘a’, ‘c’, ‘a’, ‘b’]) = [3, 2, 3, 1, 3, 2]​. nequals1(l) ​must not use list comprehension. Then develop an equivalent function ​nequals2(l) ​which ​must use list comprehension."
   ]
  },
  {
   "cell_type": "code",
   "execution_count": null,
   "metadata": {},
   "outputs": [],
   "source": []
  },
  {
   "cell_type": "markdown",
   "metadata": {},
   "source": [
    "# PDS_Test_02\n",
    "\n",
    "## Exercise 1 (4 points). \n",
    "\n",
    "​[grouping] Consider a list of dictionaries ​data​. Each dictionary maps the course passed by a student to the grade taken (>= 18). E.g.,\n",
    "\n",
    "[ { ‘pds’:20, ‘dm’: 30}, {‘log’:28, ‘pds’:30}, ... ]\n",
    "\n",
    "Develop a Python function:\n",
    "- gby(data) that returns a dictionary mapping every course to the average grade of students who passed that course."
   ]
  },
  {
   "cell_type": "code",
   "execution_count": null,
   "metadata": {},
   "outputs": [],
   "source": []
  },
  {
   "cell_type": "markdown",
   "metadata": {},
   "source": [
    "# PDS_Test_02\n",
    "## Exercise 2 (4 points). \n",
    "\n",
    "​[regular expression] Develop a Python function ​string2listdict(s) that given an input string s such as: ​“student=1, pds=20, dm=30\\nstudent=2, log=28, pds=30\\n...” returns a list of dictionaries as in Exercise 1."
   ]
  },
  {
   "cell_type": "code",
   "execution_count": null,
   "metadata": {},
   "outputs": [],
   "source": []
  },
  {
   "cell_type": "markdown",
   "metadata": {},
   "source": [
    "# PDS_Test_01\n",
    "\n",
    "## Exercise​ ​1​ ​(4​ ​points).​​ ​​ ​​\n",
    "\n",
    "[Count​ ​of​ ​bissextile​ ​years]​​ ​A​ ​year​ ​is​ ​bissextile​ ​if​ ​it​ ​is​ ​divisible​ ​by​ ​4​ ​and​ ​not​ ​by 100​ ​unless​ ​it​ ​is​ ​divisible​ ​by​ ​400.​ ​Develop​ ​a​ ​Python​ ​function:\n",
    "- countbissextile(y1,​ ​y2)​​ ​that​ ​returns​ ​the​ ​number​ ​of​ ​bissextile​ ​years​ ​in​ ​the​ ​range​ ​[​y1​,​ ​​y2​)."
   ]
  },
  {
   "cell_type": "code",
   "execution_count": null,
   "metadata": {},
   "outputs": [],
   "source": []
  },
  {
   "cell_type": "markdown",
   "metadata": {},
   "source": [
    "# PDS_Test_01\n",
    "\n",
    "## Exercise​ ​2​ ​(6​ ​points).​​ ​​ ​​\n",
    "\n",
    "[128-base​ ​encoding​ ​of​ ​a​ ​list​ ​of​ ​natural​ ​numbers]​​ ​Develop​ ​two​ ​Python functions:\n",
    "- encode(listn)​​ ​that​ ​encodes​ ​a​ ​list​ ​​listn​​ ​of​ ​any​ ​natural​ ​number​ x​​ ​​ ​by​ ​returning​ ​a​ ​list​ ​​listn8​​ ​​ ​of only​ ​natural​ ​numbers​ ​​y​​ ​that​ ​represent​ ​a​ ​128-base​ ​expansion​ ​of​ ​the​ ​input​ ​numbers​ ​​x​ ​​(use​ ​0,​ ​1, 2,​ ​...,​ ​127​ ​as​ ​digits).​ ​Use​ ​a​ ​special​ ​number​ ​not​ ​in​ ​[0,​ ​127)​ ​as​ ​separator​ ​in​ l​​ istn8​ ​​of​ ​the encoding​ ​of​ ​a​ ​number​ ​to​ ​the​ ​encoding​ ​of​ ​the​ ​next​ ​number.\n",
    "- decode(listn8)​ ​​that​ ​decodes​ ​a​ ​list​ ​​listn8​​ ​produced​ ​by​ ​​encode()​​ ​by​ ​returning​ ​a​ ​list​ ​​listn​​ ​​ ​of natural​ ​numbers​ ​such​ ​that:\n",
    "\n",
    "decode(​ ​encode(​ ​listn​ ​)​ ​)​ ​==​ ​listn \n",
    "\n",
    "is​ ​true​ ​for​ ​every​ ​list​ ​​listn​ ​​of​ ​natural​ ​numbers.\n",
    "\n",
    "### Extra​ ​(2​ ​points)​ ​to​ ​solutions​ ​that​ ​use​ ​the​ ​smallest​ ​amount​ ​of​ ​numbers​ ​in​ ​the​ ​encoded​ ​​listn8​."
   ]
  },
  {
   "cell_type": "code",
   "execution_count": null,
   "metadata": {},
   "outputs": [],
   "source": []
  }
 ],
 "metadata": {
  "hide_input": false,
  "kernelspec": {
   "display_name": "Python 3",
   "language": "python",
   "name": "python3"
  },
  "language_info": {
   "codemirror_mode": {
    "name": "ipython",
    "version": 3
   },
   "file_extension": ".py",
   "mimetype": "text/x-python",
   "name": "python",
   "nbconvert_exporter": "python",
   "pygments_lexer": "ipython3",
   "version": "3.8.5"
  }
 },
 "nbformat": 4,
 "nbformat_minor": 4
}
