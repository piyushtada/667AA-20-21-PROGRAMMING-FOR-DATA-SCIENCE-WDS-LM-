{
 "cells": [
  {
   "cell_type": "markdown",
   "metadata": {},
   "source": [
    "My idea was to have all the question and answers at one place so I can pratice all the questions in a flow.\n",
    "\n",
    "- we do bottom up approach work on the last paper first then go up "
   ]
  },
  {
   "cell_type": "markdown",
   "metadata": {},
   "source": [
    "# Basic Insturctions\n",
    "\n",
    "30% of the points are assigned to quality of documentation and/or comments to solutions. Solutions must include tests of executions of the developed functions. Deliver a pen-drive and name files as “<your matricola>_<firstname>_<lastname>_<exercisenumber>.py” for Exercises 1 and 2, and <your matricola>_<firstname>_<lastname>_3.c for the last exercise.\n"
   ]
  },
  {
   "cell_type": "markdown",
   "metadata": {},
   "source": [
    "## PDS_Test_16\n",
    "### Exercise 1 (10 points).\n",
    "A ​boomerang is a V-shaped sequence that is either upright or upside down. Specifically, a boomerang can be defined as: sub-list of length 3, with the first and last digits being the same and the middle digit being different. Some boomerang examples: [3, 7, 3], [1, -1, 1], [5, 6, 5]. Create a function that returns the total number of boomerangs in a list. For instance: [3,7,3,7,20,11,1,11] would return 3."
   ]
  },
  {
   "cell_type": "code",
   "execution_count": 23,
   "metadata": {},
   "outputs": [],
   "source": [
    "ex = [3,7,3,7,20,11,1,11]\n",
    "\n",
    "def boomerang(l):\n",
    "    \"\"\"\n",
    "    Finds out the number of boomerang examples: [3, 7, 3], [1, -1, 1], [5, 6, 5]\n",
    "    In the list\n",
    "    \"\"\"\n",
    "    counter = 0\n",
    "    for i, v in enumerate(l):\n",
    "        if len(l)-2 == i:\n",
    "            break\n",
    "        else:\n",
    "            if l[i] == l[i+2]:\n",
    "                counter += 1\n",
    "    return counter"
   ]
  },
  {
   "cell_type": "code",
   "execution_count": 24,
   "metadata": {},
   "outputs": [
    {
     "name": "stdout",
     "output_type": "stream",
     "text": [
      "3\n"
     ]
    }
   ],
   "source": [
    "print(boomerang(ex))"
   ]
  },
  {
   "cell_type": "markdown",
   "metadata": {},
   "source": [
    "[stackoverflow](https://stackoverflow.com/questions/63684211/how-to-create-a-function-that-returns-the-total-number-of-boomerangs-in-an-array)\n",
    "- we can reduce the above code with only going to -2 of range\n",
    "- and combine the actual logic of next one not equal but the next to next one is equal"
   ]
  },
  {
   "cell_type": "code",
   "execution_count": 26,
   "metadata": {},
   "outputs": [
    {
     "name": "stdout",
     "output_type": "stream",
     "text": [
      "3\n",
      "5\n"
     ]
    }
   ],
   "source": [
    "def boomerangs(l):\n",
    "    count = 0\n",
    "    for i in range(len(l) - 2):\n",
    "        if l[i] == l[i+2] and l[i] != l[i+1]:\n",
    "            count += 1\n",
    "    return count\n",
    "\n",
    "print(boomerangs([3, 7, 3, 2, 1, 5, 1, 2, 2, -2, 2]))\n",
    "print(boomerangs([1, 7, 1, 7, 1, 7, 1]))"
   ]
  },
  {
   "cell_type": "code",
   "execution_count": 3,
   "metadata": {},
   "outputs": [
    {
     "name": "stdout",
     "output_type": "stream",
     "text": [
      "3\n"
     ]
    }
   ],
   "source": [
    "def boomerang(L):\n",
    "    triplette=[]\n",
    "    for i in range(0,len(L)-2):\n",
    "        if L[i]==L[i+2]:\n",
    "            tripla=L[i:i+3]\n",
    "            triplette.append(tripla)\n",
    "    return len(triplette)\n",
    "print(boomerang([3,7,3,7,20,11,1,11]))"
   ]
  },
  {
   "cell_type": "code",
   "execution_count": 5,
   "metadata": {},
   "outputs": [
    {
     "name": "stdout",
     "output_type": "stream",
     "text": [
      "3\n"
     ]
    }
   ],
   "source": [
    "# we solve this problem in a simpler way \n",
    "\n",
    "ex = [3,7,3,7,20,11,1,11]\n",
    "\n",
    "# code here\n",
    "def boomerang(l):\n",
    "    \"\"\"Count number of boomerangs in a given list.\n",
    "\n",
    "    Args:\n",
    "    l (list): A list of numbers.\n",
    "\n",
    "    Returns:\n",
    "    count (int): The number of boomerangs.\n",
    "    \"\"\"\n",
    "    count = 0\n",
    "    for i in range(0, len(l) - 2): \n",
    "        if l[i] == l[i + 2]:\n",
    "            count+=1\n",
    "    return count\n",
    "\n",
    "print(boomerang(ex))"
   ]
  },
  {
   "cell_type": "markdown",
   "metadata": {},
   "source": [
    "## PDS_Test_16\n",
    "### Exercise 2 (10 points).\n",
    "\n",
    "A left-truncatable prime is a prime number that contains no 0 digits and, when the first digit is successively removed, the result is always prime. A right-truncatable prime is a prime number that contains no 0 digits and, when the last digit is successively removed, the result is always prime. Create a function that takes an integer as an argument and:\n",
    "\n",
    "- If the integer is only a left-truncatable prime, return \"left\".\n",
    "- If the integer is only a right-truncatable prime, return \"right\".\n",
    "- If the integer is both, return \"both\".\n",
    "- Otherwise, return False.\n",
    "\n",
    "<b>truncatable(9137) ➞ \"left\"</b> # Because 9137, 137, 37 and 7 are all prime.\n",
    "\n",
    "<b>truncatable(5939) ➞ \"right\"</b> # Because 5939, 593, 59 and 5 are all prime.\n",
    "\n",
    "<b>truncatable(317) ➞ \"both\"</b> # Because 317, 17 and 7 are all prime and 317, 31 and 3 are all prime. \n",
    "\n",
    "<b>truncatable(5) ➞ \"both\"</b> # The trivial case of single-digit primes is treated as truncatable from both directions.\n",
    "\n",
    "<b>truncatable(139) ➞ False </b> # 1 and 9 are non-prime, so 139 cannot be truncatable from either direction.\n",
    "\n",
    "<b>truncatable(103) ➞ False </b># Because it contains a 0 digit (even though 103 and 3 are primes)."
   ]
  },
  {
   "cell_type": "code",
   "execution_count": 46,
   "metadata": {},
   "outputs": [
    {
     "name": "stdout",
     "output_type": "stream",
     "text": [
      "Left\n"
     ]
    }
   ],
   "source": [
    "# solutions\n",
    "def prime(x):\n",
    "    for i in range(1,100):\n",
    "        if (i!=1) and (i!=x):\n",
    "            if x%i==0:\n",
    "                return False\n",
    "            else:\n",
    "                continue\n",
    "    return True\n",
    "def truncatable(x):\n",
    "    x=str(x)\n",
    "    if \"0\" in x:\n",
    "        return \"No trunc\"\n",
    "    for i in range(len(x)-1):\n",
    "        if prime(int(x[i+1:]))== True and prime(int(x[0:-i-1]))==True:\n",
    "            return \"both\"\n",
    "        if prime(int(x[i+1:]))== True:\n",
    "                 return \"Left\"\n",
    "        if prime(int(x[0:-i-1]))== True:\n",
    "            return \"Right\"\n",
    "print(truncatable(5929))"
   ]
  },
  {
   "cell_type": "code",
   "execution_count": 7,
   "metadata": {},
   "outputs": [],
   "source": [
    "def is_prime(val):\n",
    "    if val == 1: # if the val is 1 which is not prime\n",
    "        return 0\n",
    "    count = 2\n",
    "    while count < val:\n",
    "        if val % count == 0: # we check if there is any reminder\n",
    "            return 0\n",
    "        count += 1\n",
    "    return 1\n",
    "\n",
    "def truncatable(num):\n",
    "    r_trunk = []\n",
    "    l_trunk = []\n",
    "    num_str = str(num)\n",
    "    for i in range(len(num_str)):\n",
    "        r_trunk.append(int(num_str[:i+1]))\n",
    "        l_trunk.append(int(num_str[i:]))\n",
    "        \n",
    "    # creating a list with all return values from function]\n",
    "    r_prime = [is_prime(i) for i in r_trunk]\n",
    "    l_prime = [is_prime(l) for l in l_trunk]\n",
    "   \n",
    "    if \"0\" in num_str:\n",
    "        return \"no trunc\"\n",
    "    elif 0 not in l_prime and 0 not in r_prime:\n",
    "        return \"both\"\n",
    "    elif 0 not in l_prime:\n",
    "        return \"left trunc\"\n",
    "    elif 0 not in r_prime:\n",
    "        return \"right trunc\"\n",
    "    return \"False\""
   ]
  },
  {
   "cell_type": "markdown",
   "metadata": {},
   "source": [
    "## File number 15 and 16 are copy of each other"
   ]
  },
  {
   "cell_type": "markdown",
   "metadata": {},
   "source": [
    "## PDS_Test_14\n",
    "### Exercise 1 (10 points).\n",
    "Write a python function max_value_intersect(L, S) that takes as input a list of integers L (randomly chosen in [0, 9]), with |L| > 0 , and a set of lists of integers (from the same domain) S. Then for each pair (L, s):\n",
    "1. checks that both lists do not contain repeated values: if repeated values are present remove them;\n",
    "2. computes the intersection among the two lists;\n",
    "3. sum all the values in the intersection.\n",
    "4. returns the tuple (L, s, I, v) where ​s is the set that generates the intersection ​I having\n",
    "maximal internal sum ​v.\n",
    "\n",
    "NOTE: You cannot use any external library or built-in Python tool. The exercises will be otherwise\n",
    "evaluated 0.\n"
   ]
  },
  {
   "cell_type": "code",
   "execution_count": 8,
   "metadata": {},
   "outputs": [],
   "source": [
    "def max_value_intersect(L, S):\n",
    "    l = []\n",
    "    v = 0\n",
    "    for num in L:\n",
    "        if num in S:\n",
    "            # add values that are in both lists\n",
    "            l.append(num)\n",
    "    # calculate the sum of intersection    \n",
    "    for m in l:\n",
    "        v+= m\n",
    "    return (L, S, l, v)"
   ]
  },
  {
   "cell_type": "code",
   "execution_count": 9,
   "metadata": {},
   "outputs": [
    {
     "name": "stdout",
     "output_type": "stream",
     "text": [
      "L is: [5, 3, 4, 7, 8]\n",
      "S is: [1, 2, 3, 4, 7]\n",
      "l is:[3, 4, 7]\n",
      "Sum is: 14\n"
     ]
    }
   ],
   "source": [
    "L = [5, 3, 4, 7, 8]\n",
    "S = [1, 2, 3, 4, 7]\n",
    "\n",
    "L, S, l, v = max_value_intersect(L, S)\n",
    "print(f\"L is: {L}\\nS is: {S}\\nl is:{l}\\nSum is: {v}\")"
   ]
  },
  {
   "cell_type": "markdown",
   "metadata": {},
   "source": [
    "## PDS_Test_14\n",
    "### Exercise 2 (10 points).\n",
    "A DNA string is a string built on an alphabet of 4 characters: ​A, T, G, and C. ​In bioinformatics a k-mer is a substring of ​k characters from a string that is longer than ​k​. Write a function <b>KMer(s,k)</b> with two parameters: a DNA string and the value of k. Return a dictionary of k-mer counts. \n",
    "\n",
    "<b>BONUS</b>: store in the dictionary the list of positions from where each ​k-mer​ starts.\n",
    "\n",
    "Example: <b>KMer(GTAGAGTAGT, 3)</b> → {“GTA”:2, “TAG”:2, “AGT”:2, “AGA”:1, “GAG”:1}\n",
    "\n",
    "BONUS Example: <b>KMer(GTAGAGTAGT, 3)</b> → {“GTA”:[0,5], “TAG”:[1,6], “AGT”:[4,7], “AGA”:[2],“GAG”:[3]}"
   ]
  },
  {
   "cell_type": "code",
   "execution_count": 10,
   "metadata": {},
   "outputs": [],
   "source": [
    "def KMer(s, k):\n",
    "    all_pair = []\n",
    "    count = {}\n",
    "    place = {}\n",
    "    for i in range(len(s)-2):\n",
    "        all_pair.append(s[i:i+k])\n",
    "    # check if a key exsists in the dictionary\n",
    "    for pattern in all_pair:\n",
    "        if pattern in count:\n",
    "            count[pattern] += 1\n",
    "        else:\n",
    "            count[pattern] = 1\n",
    "    for pattern in set(all_pair):\n",
    "        place[pattern] = [s.index(pattern),s.index(pattern) + k]\n",
    "    \n",
    "    return (count, place)"
   ]
  },
  {
   "cell_type": "code",
   "execution_count": 11,
   "metadata": {},
   "outputs": [
    {
     "name": "stdout",
     "output_type": "stream",
     "text": [
      "{'GTA': 2, 'TAG': 2, 'AGA': 1, 'GAG': 1, 'AGT': 2}\n",
      "{'AGT': [4, 7], 'AGA': [2, 5], 'TAG': [1, 4], 'GAG': [3, 6], 'GTA': [0, 3]}\n"
     ]
    }
   ],
   "source": [
    "count, place = KMer(\"GTAGAGTAGT\", 3) \n",
    "print(count, place, sep='\\n')"
   ]
  },
  {
   "cell_type": "code",
   "execution_count": null,
   "metadata": {},
   "outputs": [],
   "source": []
  }
 ],
 "metadata": {
  "hide_input": false,
  "kernelspec": {
   "display_name": "Python 3",
   "language": "python",
   "name": "python3"
  },
  "language_info": {
   "codemirror_mode": {
    "name": "ipython",
    "version": 3
   },
   "file_extension": ".py",
   "mimetype": "text/x-python",
   "name": "python",
   "nbconvert_exporter": "python",
   "pygments_lexer": "ipython3",
   "version": "3.8.5"
  }
 },
 "nbformat": 4,
 "nbformat_minor": 4
}
