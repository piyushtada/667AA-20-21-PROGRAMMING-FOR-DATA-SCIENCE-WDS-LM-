{
 "cells": [
  {
   "cell_type": "markdown",
   "metadata": {},
   "source": [
    "My idea was to have all the question and answers at one place so I can pratice all the questions in a flow.\n",
    "\n",
    "- we do bottom up approach work on the last paper first then go up "
   ]
  },
  {
   "cell_type": "markdown",
   "metadata": {},
   "source": [
    "# Basic Insturctions\n",
    "\n",
    "30% of the points are assigned to quality of documentation and/or comments to solutions. Solutions must include tests of executions of the developed functions. Deliver a pen-drive and name files as “<your matricola>_<firstname>_<lastname>_<exercisenumber>.py” for Exercises 1 and 2, and <your matricola>_<firstname>_<lastname>_3.c for the last exercise.\n"
   ]
  },
  {
   "cell_type": "markdown",
   "metadata": {},
   "source": [
    "## PDS_Test_16\n",
    "### Exercise 1 (10 points).\n",
    "A ​boomerang is a V-shaped sequence that is either upright or upside down. Specifically, a boomerang can be defined as: sub-list of length 3, with the first and last digits being the same and the middle digit being different. Some boomerang examples: [3, 7, 3], [1, -1, 1], [5, 6, 5]. Create a function that returns the total number of boomerangs in a list. For instance: [3,7,3,7,20,11,1,11] would return 3."
   ]
  },
  {
   "cell_type": "code",
   "execution_count": 23,
   "metadata": {},
   "outputs": [],
   "source": [
    "ex = [3,7,3,7,20,11,1,11]\n",
    "\n",
    "def boomerang(l):\n",
    "    \"\"\"\n",
    "    Finds out the number of boomerang examples: [3, 7, 3], [1, -1, 1], [5, 6, 5]\n",
    "    In the list\n",
    "    \"\"\"\n",
    "    counter = 0\n",
    "    for i, v in enumerate(l):\n",
    "        if len(l)-2 == i:\n",
    "            break\n",
    "        else:\n",
    "            if l[i] == l[i+2]:\n",
    "                counter += 1\n",
    "    return counter"
   ]
  },
  {
   "cell_type": "code",
   "execution_count": 24,
   "metadata": {},
   "outputs": [
    {
     "name": "stdout",
     "output_type": "stream",
     "text": [
      "3\n"
     ]
    }
   ],
   "source": [
    "print(boomerang(ex))"
   ]
  },
  {
   "cell_type": "markdown",
   "metadata": {},
   "source": [
    "[stackoverflow](https://stackoverflow.com/questions/63684211/how-to-create-a-function-that-returns-the-total-number-of-boomerangs-in-an-array)\n",
    "- we can reduce the above code with only going to -2 of range\n",
    "- and combine the actual logic of next one not equal but the next to next one is equal"
   ]
  },
  {
   "cell_type": "code",
   "execution_count": 26,
   "metadata": {},
   "outputs": [
    {
     "name": "stdout",
     "output_type": "stream",
     "text": [
      "3\n",
      "5\n"
     ]
    }
   ],
   "source": [
    "def boomerangs(l):\n",
    "    count = 0\n",
    "    for i in range(len(l) - 2):\n",
    "        if l[i] == l[i+2] and l[i] != l[i+1]:\n",
    "            count += 1\n",
    "    return count\n",
    "\n",
    "print(boomerangs([3, 7, 3, 2, 1, 5, 1, 2, 2, -2, 2]))\n",
    "print(boomerangs([1, 7, 1, 7, 1, 7, 1]))"
   ]
  },
  {
   "cell_type": "code",
   "execution_count": 3,
   "metadata": {},
   "outputs": [
    {
     "name": "stdout",
     "output_type": "stream",
     "text": [
      "3\n"
     ]
    }
   ],
   "source": [
    "def boomerang(L):\n",
    "    triplette=[]\n",
    "    for i in range(0,len(L)-2):\n",
    "        if L[i]==L[i+2]:\n",
    "            tripla=L[i:i+3]\n",
    "            triplette.append(tripla)\n",
    "    return len(triplette)\n",
    "print(boomerang([3,7,3,7,20,11,1,11]))"
   ]
  },
  {
   "cell_type": "code",
   "execution_count": 5,
   "metadata": {},
   "outputs": [
    {
     "name": "stdout",
     "output_type": "stream",
     "text": [
      "3\n"
     ]
    }
   ],
   "source": [
    "# we solve this problem in a simpler way \n",
    "\n",
    "ex = [3,7,3,7,20,11,1,11]\n",
    "\n",
    "# code here\n",
    "def boomerang(l):\n",
    "    \"\"\"Count number of boomerangs in a given list.\n",
    "\n",
    "    Args:\n",
    "    l (list): A list of numbers.\n",
    "\n",
    "    Returns:\n",
    "    count (int): The number of boomerangs.\n",
    "    \"\"\"\n",
    "    count = 0\n",
    "    for i in range(0, len(l) - 2): \n",
    "        if l[i] == l[i + 2]:\n",
    "            count+=1\n",
    "    return count\n",
    "\n",
    "print(boomerang(ex))"
   ]
  },
  {
   "cell_type": "markdown",
   "metadata": {},
   "source": [
    "## PDS_Test_16\n",
    "### Exercise 2 (10 points).\n",
    "\n",
    "A left-truncatable prime is a prime number that contains no 0 digits and, when the first digit is successively removed, the result is always prime. A right-truncatable prime is a prime number that contains no 0 digits and, when the last digit is successively removed, the result is always prime. Create a function that takes an integer as an argument and:\n",
    "\n",
    "- If the integer is only a left-truncatable prime, return \"left\".\n",
    "- If the integer is only a right-truncatable prime, return \"right\".\n",
    "- If the integer is both, return \"both\".\n",
    "- Otherwise, return False.\n",
    "\n",
    "<b>truncatable(9137) ➞ \"left\"</b> # Because 9137, 137, 37 and 7 are all prime.\n",
    "\n",
    "<b>truncatable(5939) ➞ \"right\"</b> # Because 5939, 593, 59 and 5 are all prime.\n",
    "\n",
    "<b>truncatable(317) ➞ \"both\"</b> # Because 317, 17 and 7 are all prime and 317, 31 and 3 are all prime. \n",
    "\n",
    "<b>truncatable(5) ➞ \"both\"</b> # The trivial case of single-digit primes is treated as truncatable from both directions.\n",
    "\n",
    "<b>truncatable(139) ➞ False </b> # 1 and 9 are non-prime, so 139 cannot be truncatable from either direction.\n",
    "\n",
    "<b>truncatable(103) ➞ False </b># Because it contains a 0 digit (even though 103 and 3 are primes)."
   ]
  },
  {
   "cell_type": "code",
   "execution_count": 46,
   "metadata": {},
   "outputs": [
    {
     "name": "stdout",
     "output_type": "stream",
     "text": [
      "Left\n"
     ]
    }
   ],
   "source": [
    "# solutions\n",
    "def prime(x):\n",
    "    for i in range(1,100):\n",
    "        if (i!=1) and (i!=x):\n",
    "            if x%i==0:\n",
    "                return False\n",
    "            else:\n",
    "                continue\n",
    "    return True\n",
    "def truncatable(x):\n",
    "    x=str(x)\n",
    "    if \"0\" in x:\n",
    "        return \"No trunc\"\n",
    "    for i in range(len(x)-1):\n",
    "        if prime(int(x[i+1:]))== True and prime(int(x[0:-i-1]))==True:\n",
    "            return \"both\"\n",
    "        if prime(int(x[i+1:]))== True:\n",
    "                 return \"Left\"\n",
    "        if prime(int(x[0:-i-1]))== True:\n",
    "            return \"Right\"\n",
    "print(truncatable(5929))"
   ]
  },
  {
   "cell_type": "code",
   "execution_count": 7,
   "metadata": {},
   "outputs": [],
   "source": [
    "def is_prime(val):\n",
    "    if val == 1: # if the val is 1 which is not prime\n",
    "        return 0\n",
    "    count = 2\n",
    "    while count < val:\n",
    "        if val % count == 0: # we check if there is any reminder\n",
    "            return 0\n",
    "        count += 1\n",
    "    return 1\n",
    "\n",
    "def truncatable(num):\n",
    "    r_trunk = []\n",
    "    l_trunk = []\n",
    "    num_str = str(num)\n",
    "    for i in range(len(num_str)):\n",
    "        r_trunk.append(int(num_str[:i+1]))\n",
    "        l_trunk.append(int(num_str[i:]))\n",
    "        \n",
    "    # creating a list with all return values from function]\n",
    "    r_prime = [is_prime(i) for i in r_trunk]\n",
    "    l_prime = [is_prime(l) for l in l_trunk]\n",
    "   \n",
    "    if \"0\" in num_str:\n",
    "        return \"no trunc\"\n",
    "    elif 0 not in l_prime and 0 not in r_prime:\n",
    "        return \"both\"\n",
    "    elif 0 not in l_prime:\n",
    "        return \"left trunc\"\n",
    "    elif 0 not in r_prime:\n",
    "        return \"right trunc\"\n",
    "    return \"False\""
   ]
  },
  {
   "cell_type": "markdown",
   "metadata": {},
   "source": [
    "## File number 15 and 16 are copy of each other"
   ]
  },
  {
   "cell_type": "markdown",
   "metadata": {},
   "source": [
    "## PDS_Test_14\n",
    "### Exercise 1 (10 points).\n",
    "Write a python function max_value_intersect(L, S) that takes as input a list of integers L (randomly chosen in [0, 9]), with |L| > 0 , and a set of lists of integers (from the same domain) S. Then for each pair (L, s):\n",
    "1. checks that both lists do not contain repeated values: if repeated values are present remove them;\n",
    "2. computes the intersection among the two lists;\n",
    "3. sum all the values in the intersection.\n",
    "4. returns the tuple (L, s, I, v) where ​s is the set that generates the intersection ​I having\n",
    "maximal internal sum ​v.\n",
    "\n",
    "NOTE: You cannot use any external library or built-in Python tool. The exercises will be otherwise\n",
    "evaluated 0.\n"
   ]
  },
  {
   "cell_type": "code",
   "execution_count": 8,
   "metadata": {},
   "outputs": [],
   "source": [
    "def max_value_intersect(L, S):\n",
    "    l = []\n",
    "    v = 0\n",
    "    for num in L:\n",
    "        if num in S:\n",
    "            # add values that are in both lists\n",
    "            l.append(num)\n",
    "    # calculate the sum of intersection    \n",
    "    for m in l:\n",
    "        v+= m\n",
    "    return (L, S, l, v)"
   ]
  },
  {
   "cell_type": "code",
   "execution_count": 9,
   "metadata": {},
   "outputs": [
    {
     "name": "stdout",
     "output_type": "stream",
     "text": [
      "L is: [5, 3, 4, 7, 8]\n",
      "S is: [1, 2, 3, 4, 7]\n",
      "l is:[3, 4, 7]\n",
      "Sum is: 14\n"
     ]
    }
   ],
   "source": [
    "L = [5, 3, 4, 7, 8]\n",
    "S = [1, 2, 3, 4, 7]\n",
    "\n",
    "L, S, l, v = max_value_intersect(L, S)\n",
    "print(f\"L is: {L}\\nS is: {S}\\nl is:{l}\\nSum is: {v}\")"
   ]
  },
  {
   "cell_type": "markdown",
   "metadata": {},
   "source": [
    "## PDS_Test_14\n",
    "### Exercise 2 (10 points).\n",
    "A DNA string is a string built on an alphabet of 4 characters: ​A, T, G, and C. ​In bioinformatics a k-mer is a substring of ​k characters from a string that is longer than ​k​. Write a function <b>KMer(s,k)</b> with two parameters: a DNA string and the value of k. Return a dictionary of k-mer counts. \n",
    "\n",
    "<b>BONUS</b>: store in the dictionary the list of positions from where each ​k-mer​ starts.\n",
    "\n",
    "Example: <b>KMer(GTAGAGTAGT, 3)</b> → {“GTA”:2, “TAG”:2, “AGT”:2, “AGA”:1, “GAG”:1}\n",
    "\n",
    "BONUS Example: <b>KMer(GTAGAGTAGT, 3)</b> → {“GTA”:[0,5], “TAG”:[1,6], “AGT”:[4,7], “AGA”:[2],“GAG”:[3]}"
   ]
  },
  {
   "cell_type": "code",
   "execution_count": 10,
   "metadata": {},
   "outputs": [],
   "source": [
    "def KMer(s, k):\n",
    "    all_pair = []\n",
    "    count = {}\n",
    "    place = {}\n",
    "    for i in range(len(s)-2):\n",
    "        all_pair.append(s[i:i+k])\n",
    "    # check if a key exsists in the dictionary\n",
    "    for pattern in all_pair:\n",
    "        if pattern in count:\n",
    "            count[pattern] += 1\n",
    "        else:\n",
    "            count[pattern] = 1\n",
    "    for pattern in set(all_pair):\n",
    "        place[pattern] = [s.index(pattern),s.index(pattern) + k]\n",
    "    \n",
    "    return (count, place)"
   ]
  },
  {
   "cell_type": "code",
   "execution_count": 11,
   "metadata": {},
   "outputs": [
    {
     "name": "stdout",
     "output_type": "stream",
     "text": [
      "{'GTA': 2, 'TAG': 2, 'AGA': 1, 'GAG': 1, 'AGT': 2}\n",
      "{'AGT': [4, 7], 'AGA': [2, 5], 'TAG': [1, 4], 'GAG': [3, 6], 'GTA': [0, 3]}\n"
     ]
    }
   ],
   "source": [
    "count, place = KMer(\"GTAGAGTAGT\", 3) \n",
    "print(count, place, sep='\\n')"
   ]
  },
  {
   "cell_type": "markdown",
   "metadata": {},
   "source": [
    "# PDS_Test_13\n",
    "\n",
    "## Exercise 1 (10 points).\n",
    "Write a python function ones(x) that takes as input an integer x, computes its binary representation and returns the length of the maximal subsequence of adjacent 1s in such bitstring.\n",
    "\n",
    "NOTE: You cannot use any external library or tool. The exercise will be otherwise evaluated 0."
   ]
  },
  {
   "cell_type": "code",
   "execution_count": 6,
   "metadata": {},
   "outputs": [],
   "source": [
    "def get_binary_string(q):\n",
    "    r = \"\"\n",
    "    while q > 0:\n",
    "        r += str(q % 2)\n",
    "        q = q // 2\n",
    "     \n",
    "    return r[::-1]\n",
    "\n",
    "def ones(bi):\n",
    "    count = 0\n",
    "    max_count = 0\n",
    "    for i in bi:\n",
    "        if i == \"1\":\n",
    "            count += 1\n",
    "            if count > max_count:\n",
    "                max_count = count\n",
    "        else:\n",
    "            count = 0\n",
    "    return max_count"
   ]
  },
  {
   "cell_type": "code",
   "execution_count": 7,
   "metadata": {},
   "outputs": [
    {
     "data": {
      "text/plain": [
       "3"
      ]
     },
     "execution_count": 7,
     "metadata": {},
     "output_type": "execute_result"
    }
   ],
   "source": [
    "ones(get_binary_string(7))"
   ]
  },
  {
   "cell_type": "markdown",
   "metadata": {},
   "source": [
    "# PDS_Test_13\n",
    "\n",
    "## Exercise 2 (10 points).\n",
    "Write a python function max_and(S, n) that takes as input an integer n>0 and a set S of nonnegative integers with n ≤ |S| and returns\n",
    "\n",
    "max{t1..., tn}⊆ S (t1 &... & tn)\n",
    "\n",
    "where x&y is the bit-to-bit ​and​ operator between integers.\n",
    "\n",
    "Es. With S = {7, 9, 3, 5}, the function returns 5 (or 101)"
   ]
  },
  {
   "cell_type": "code",
   "execution_count": 9,
   "metadata": {},
   "outputs": [
    {
     "name": "stdout",
     "output_type": "stream",
     "text": [
      "3\n"
     ]
    }
   ],
   "source": [
    "S = {7,9,3,5}\n",
    "\n",
    "def max_and(S,n):\n",
    "    L = []\n",
    "    for el in S:\n",
    "        result = el & n\n",
    "        L.append(result)\n",
    "    return max(L)\n",
    "print(max_and(S,3))"
   ]
  },
  {
   "cell_type": "markdown",
   "metadata": {},
   "source": [
    "I didn't get what is this bit-to-bit mean"
   ]
  },
  {
   "cell_type": "markdown",
   "metadata": {},
   "source": [
    "# PDS_Test_12\n",
    "\n",
    "## Exercise 1.\n",
    "\n",
    "Write a Python function ​incl_excl(L)​ that:\n",
    "- takes as input a list of lists, L, whose elements represent sets of integers;\n",
    "- checks that all elements of each set are integers and that no repetitions are present in each set\n",
    "(otherwise, raise a ValueError);\n",
    "- computes the generalized inclusion-exclusion of all sets in L (hint: as an intermediate step you\n",
    "have to compute the power set of L)​;\n",
    "- prints the result.\n",
    "\n",
    "Note​:\n",
    "- You cannot use any external library or tool.\n",
    "- You cannot use Python sets operators: if needed, set intersection, union, difference have to be implemented from scratch.\n",
    "\n",
    "The exercise will be otherwise evaluated 0.\n"
   ]
  },
  {
   "cell_type": "code",
   "execution_count": 20,
   "metadata": {},
   "outputs": [
    {
     "data": {
      "text/plain": [
       "True"
      ]
     },
     "execution_count": 20,
     "metadata": {},
     "output_type": "execute_result"
    }
   ],
   "source": [
    "l = [3, 5, 5, 3, 8, 18]\n",
    "\n",
    "isinstance(1, int)"
   ]
  },
  {
   "cell_type": "code",
   "execution_count": 22,
   "metadata": {},
   "outputs": [
    {
     "name": "stdout",
     "output_type": "stream",
     "text": [
      "True\n",
      "True\n"
     ]
    },
    {
     "ename": "IndexError",
     "evalue": "list index out of range",
     "output_type": "error",
     "traceback": [
      "\u001b[0;31m---------------------------------------------------------------------------\u001b[0m",
      "\u001b[0;31mIndexError\u001b[0m                                Traceback (most recent call last)",
      "\u001b[0;32m<ipython-input-22-687261dedc3c>\u001b[0m in \u001b[0;36m<module>\u001b[0;34m\u001b[0m\n\u001b[1;32m      1\u001b[0m \u001b[0;32mfor\u001b[0m \u001b[0mi\u001b[0m \u001b[0;32min\u001b[0m \u001b[0mrange\u001b[0m\u001b[0;34m(\u001b[0m\u001b[0mlen\u001b[0m\u001b[0;34m(\u001b[0m\u001b[0ml\u001b[0m\u001b[0;34m)\u001b[0m\u001b[0;34m)\u001b[0m\u001b[0;34m:\u001b[0m\u001b[0;34m\u001b[0m\u001b[0;34m\u001b[0m\u001b[0m\n\u001b[0;32m----> 2\u001b[0;31m     \u001b[0mprint\u001b[0m\u001b[0;34m(\u001b[0m\u001b[0misinstance\u001b[0m\u001b[0;34m(\u001b[0m\u001b[0ml\u001b[0m\u001b[0;34m[\u001b[0m\u001b[0mi\u001b[0m\u001b[0;34m]\u001b[0m\u001b[0;34m,\u001b[0m \u001b[0mint\u001b[0m\u001b[0;34m)\u001b[0m\u001b[0;34m)\u001b[0m\u001b[0;34m\u001b[0m\u001b[0;34m\u001b[0m\u001b[0m\n\u001b[0m\u001b[1;32m      3\u001b[0m     \u001b[0ml\u001b[0m\u001b[0;34m.\u001b[0m\u001b[0mpop\u001b[0m\u001b[0;34m(\u001b[0m\u001b[0mi\u001b[0m\u001b[0;34m)\u001b[0m\u001b[0;34m\u001b[0m\u001b[0;34m\u001b[0m\u001b[0m\n",
      "\u001b[0;31mIndexError\u001b[0m: list index out of range"
     ]
    }
   ],
   "source": [
    "for i in range(len(l)):\n",
    "    print(isinstance(l[i], int))\n",
    "    l.pop(i)"
   ]
  },
  {
   "cell_type": "markdown",
   "metadata": {},
   "source": [
    "# PDS_Test_12\n",
    "\n",
    "## Exercise 2. \n",
    "Write a Python function ​countNeighbors() ​that takes in input a piece of text ​S (a sequence of lower case strings separated by either white space or newline). Given a word ​w in ​S​, let us\n",
    "call the ​previous word ​and the ​next word of ​w​, the previous and the next word of ​w in ​S​, respectively. countNeighbors() returns two sets: ​SP and ​SN​, where ​SP is the set of all words in ​S with the highest number of distinct previous words; and ​NP is the set of all words in ​S with the highest number of distinct next words.\n",
    "\n",
    "Example​: Let ​S​ be “in these days it would nice that these days would be sufficiently be days will come”. The previous word of ​these​ is ​in​, and its next word is ​days​.\n",
    "The previous words of ​days​ are ​these ​and​ be​, and its next words are ​it​,​ would​ and ​will\n",
    "In the above example: SP = {days, be}, and SN = {days}.\n"
   ]
  },
  {
   "cell_type": "code",
   "execution_count": null,
   "metadata": {},
   "outputs": [],
   "source": []
  },
  {
   "cell_type": "markdown",
   "metadata": {},
   "source": [
    "# PDS_Test_11\n",
    "\n",
    "## Exercise 1 (10 points). \n",
    "\n",
    "Consider a list of strings ​S = [s​1,​ ..., s​n]​ ​, and let ​K be a natural number. We define the type of ​S​ as:\n",
    "\n",
    "- ‘enumerated’​if there are at most ​K​ d​ istinct ​strings among ​s​1,​ ..., s​n;​ and if not,\n",
    "- ‘numeric’​if ​all ​strings can be converted to a number; and if not,‘string’ otherwise.\n",
    "\n",
    "The list can be accessed ​sequentially ​from ​s​1 t​ o ​s​n ​only once​. Write a Python function ​ArffType(S, K) which returns the type of ​S​.\n",
    "\n",
    "ArffType([‘3’, ‘4’, ‘1.2’, ‘4’], 2) # returns ‘numeric’ ArffType([‘3’, ‘4’, ‘1.2’, ‘4’], 3) # returns ‘enumerated’ ArffType([‘3’, ‘hello’, ‘1.2’, ‘4’], 2) # returns ‘string’ ArffType([‘3’, ‘hello’, ‘1.2’, ‘4’], 4) # returns ‘enumerated’\n",
    "\n",
    "NOTE: You cannot use any external library or tool. The exercise will be otherwise evaluated 0."
   ]
  },
  {
   "cell_type": "code",
   "execution_count": null,
   "metadata": {},
   "outputs": [],
   "source": []
  },
  {
   "cell_type": "markdown",
   "metadata": {},
   "source": [
    "# PDS_Test_11\n",
    "\n",
    "## Exercise 2 (10 points). \n",
    "\n",
    "​An anagram is a type of word play: the result of rearranging the letters of a word or phrase to produce a new word or phrase, using all the original letters exactly once; e.g., orchestra = carthorse. The new word has to be a word existing in the language (english, in our case).\n",
    "\n",
    "Write a Python program ​anagram.py that, given a word input by the user, find all the anagrams, placing them in a list, and then prints the list. To verify whether you are producing an actual English word, check the “potential” anagram against the words contained in the downloaded file ​wordsList.txt​.\n",
    "\n",
    "Finally, make ​anagram.py​ a module, and write another program that uses the just developed functionality. \n",
    "\n",
    "### 2 extra points if your code is designed to work efficiently with word files of big size."
   ]
  },
  {
   "cell_type": "code",
   "execution_count": null,
   "metadata": {},
   "outputs": [],
   "source": []
  },
  {
   "cell_type": "markdown",
   "metadata": {},
   "source": [
    "# PDS_Test_10\n",
    "\n",
    "## Exercise 1 (10 points).​ ​[sets] ​Write a Python class ​PowerS ​such that:\n",
    "1. It has one class variable, called ​S​, that is a set.\n",
    "2. It has a constructor that creates S with ​n integers, where ​n is a randomly chosen number between 1 and 10. The integers contained in ​S​ are randomly chosen integers between -50 and 50.\n",
    "3. It has a method ​powerSet()​, that generates and prints the power set of S​ ​.\n",
    "4. It has a method to print the content of ​S​.\n",
    "\n",
    "Then, create an object ​PS​ of the class ​PowerS​,​ ​and call on ​PS​ all of its methods.\n",
    "\n",
    "### NOTE: You cannot use any external library or tool. The exercise will be otherwise evaluated 0.\n"
   ]
  },
  {
   "cell_type": "code",
   "execution_count": null,
   "metadata": {},
   "outputs": [],
   "source": []
  },
  {
   "cell_type": "markdown",
   "metadata": {},
   "source": [
    "# PDS_Test_10\n",
    "\n",
    "## Exercise 2 (10 points).​ ​[statistics]\n",
    "1. The ​mode of a list ​L of values is given by the ​most frequently occurring number in ​L​. Write a Python function ​mode(L) ​that, ​using a dictionary​, returns as a list the mode of ​L.​\n",
    "\n",
    "Example: [1,4,5,4,6,5,4,1,4] → [4] ; [1,4,5,6,5,4,1] → [1,4,5]\n",
    "\n",
    "2. Given a list ​L of pairs of natural numbers representing closed intervals, write a ​recursive Pyhton function ​minint() that takes in input such a list, and returns the smallest interval that encloses all intervals in ​L​. The empty interval is represented by the value 0.\n",
    "\n",
    "Example: [(2,4),(3,5),(3,6)] → (2,6)\n",
    "\n",
    "### NOTE: You cannot use any ​predefined Python function. The exercise will be otherwise evaluated 0.\n"
   ]
  },
  {
   "cell_type": "code",
   "execution_count": null,
   "metadata": {},
   "outputs": [],
   "source": []
  },
  {
   "cell_type": "markdown",
   "metadata": {},
   "source": [
    "# PDS_Test_09\n",
    "\n",
    "## Exercise1(10points).​ ​[2’sComplementSum]\n",
    "Implement a Python function ​cpt2sum() that takes as input two bitstring, each representing the 2's complement of an integer. The representation should use ​8 bits​ (one encoding the sign).\n",
    "cpt2sum(a, b)​ has to:\n",
    "\n",
    "1. Check the correctness of the input ensuring both the length and the absence of erroneous characters (i.e., characters outside the binary alphabet). If such requirements are not satisfied, cpt2sum​ has to raise an error.\n",
    "2. Compute the sum of ​a​ and ​b​ ​without​ changing their base.\n",
    "3. Return a tuple of four elements (​sum​, ​sum10​, ​a10​, ​b10​) composed by the computed result, its representations in base 10, the representations in base 10 of both ​a​ and ​b​.\n",
    "\n",
    "Example:​\n",
    "a=11111010 b=00000101 → (11111111, -1, -6, 5) a=01103000 b=000100101 → Error!"
   ]
  },
  {
   "cell_type": "code",
   "execution_count": null,
   "metadata": {},
   "outputs": [],
   "source": []
  },
  {
   "cell_type": "markdown",
   "metadata": {},
   "source": [
    "# PDS_Test_09\n",
    "\n",
    "## Exercise 2 (10 points).​ ​[permutations] Write a Python class ​PermSet​ such that:\n",
    "1. It has one class variable, called ​Ls​, that is a list of sets of 3 integers.\n",
    "2. It has a constructor that creates ​Ls with ​n sets, where ​n is a randomly chosen number between 1 and 10. The three integers contained in each set are randomly chosen integers between -50 and 150.\n",
    "3. It has a method ​GeneratePerm()​, that generates and prints all permutation of the elements in ​Ls​.\n",
    "4. It has a method to print the content of ​Ls​.\n",
    "\n",
    "Then, create an object ​PS​ of the class ​PermSet​,​ ​and call on ​PS​ all its methods.\n",
    "\n",
    "### NOTE: You cannot use any external library or tool. The exercise will be otherwise evaluated 0.\n"
   ]
  },
  {
   "cell_type": "code",
   "execution_count": null,
   "metadata": {},
   "outputs": [],
   "source": []
  },
  {
   "cell_type": "markdown",
   "metadata": {},
   "source": [
    "# PDS_Test_08\n",
    "\n",
    "## Exercise 1. \n",
    "\n",
    "Consider a list ​L ​of triplets (e, s, v) where e is a string with the name of a university course, s is a student-id, and v is the grade of the student who passed the exam of the course. Write a Python function​ summary(L)​ that returns a dictionary mapping:\n",
    "- the pair (“list”, e) to the list of grades for course e\n",
    "- the pair (“exam”, s) to the list of exams passed by student s. For example:\n",
    "\n",
    "summary([(‘pds’, 1, 28), (‘pds’, 2, 25), (‘dm’, 1, 22), (‘dm’, 3, 30)] = { (‘list’, ‘pds’): [28, 25], (‘list’, ‘dm’:[22,30], (‘exam’,1)=[‘pds’,’dm’], (‘exam’, 2)=[‘pds’], (‘exam’, 3)=[‘dm’] }\n"
   ]
  },
  {
   "cell_type": "code",
   "execution_count": null,
   "metadata": {},
   "outputs": [],
   "source": []
  },
  {
   "cell_type": "markdown",
   "metadata": {},
   "source": [
    "# PDS_Test_08\n",
    "\n",
    "## Exercise 2. \n",
    "Write a Python function maxor(S, n) that given an integer ​n > 0 and a set ​S ​of non-negative integers, with ​n ≤ ​|​S​|, returns:\n",
    "\n",
    "![title](./img/pds_8.png)\n",
    "\n",
    "where x | y is the bit-to-bit or operator between integers. For example:\n",
    "\n",
    "maxor({2, 5, 13}, 1) = 13 \n",
    "\n",
    "maxor({2, 5, 13}, 2) = 15 \n",
    "\n",
    "maxor({2, 5, 13}, 3) = 15"
   ]
  },
  {
   "cell_type": "code",
   "execution_count": null,
   "metadata": {},
   "outputs": [],
   "source": []
  },
  {
   "cell_type": "markdown",
   "metadata": {},
   "source": [
    "# PDS_Test_07\n",
    "\n",
    "## Exercise 1.​ Develop the following Python functions:\n",
    "1. Write a Python function ​reverse(x) ​to reverse the bits of an integer (assume 32 bits unsigned representation).\n",
    "\n",
    "### Ex: ​Input​: 14 → 0000....00001110 → (reversed) → 011100000....000 → ​Output​: 1879048192\n",
    "\n",
    "2. Write a Python function add_binary(x,y) ​to add two binary numbers ​x and ​y​. Inputs and output are represented as list of 0/1, and the function ​must work on such a representation​.\n",
    "\n",
    "### Ex: ​Input​: [1,1], [1] → ​Output​: [1,0,0]\n",
    "\n",
    "### Ex: ​Input​: [1,1,1], [1,1,1] → ​Output​: [1,1,1,0]\n",
    "\n",
    "3. Write a Python function ​duplicates(x) ​that for a list ​x = [v​1,​ ..., v​n]​ ​ ​returns ​[d​1,​ ..., d​n]​ ​ ​where: d​i​ = #{ j in [1,i] | v​j​ has a duplicate in x}\n",
    "\n",
    "### Ex: ​Input​: [‘a’, ‘b’, ‘a’, ‘c’] → ​Output​: [1,1,2,2]"
   ]
  },
  {
   "cell_type": "code",
   "execution_count": null,
   "metadata": {},
   "outputs": [],
   "source": []
  },
  {
   "cell_type": "markdown",
   "metadata": {},
   "source": [
    "# PDS_Test_07\n",
    "\n",
    "## Exercise 2. only one python exercise\n"
   ]
  },
  {
   "cell_type": "code",
   "execution_count": null,
   "metadata": {},
   "outputs": [],
   "source": []
  },
  {
   "cell_type": "markdown",
   "metadata": {},
   "source": [
    "# PDS_Test_06\n",
    "\n",
    "![some](./img/pds_6.png)"
   ]
  },
  {
   "cell_type": "code",
   "execution_count": null,
   "metadata": {},
   "outputs": [],
   "source": []
  },
  {
   "cell_type": "markdown",
   "metadata": {},
   "source": [
    "# PDS_Test_06\n",
    "\n",
    "## Exercise 2. \n",
    "\n",
    "Write a Python function ​listpair(S) ​that given a string ​S ​returns the list of all pairs of adjacent numbers in the string that are both odd or both even. The function must use regular expressions and cannot test for parity of a number. For example:\n",
    "\n",
    "listpair(‘32 is the double of 16 which is less than 17 but higher than 15’) = [(32, 16), (17, 15)]"
   ]
  },
  {
   "cell_type": "code",
   "execution_count": null,
   "metadata": {},
   "outputs": [],
   "source": []
  },
  {
   "cell_type": "markdown",
   "metadata": {},
   "source": [
    "# PDS_Test_05\n",
    "\n",
    "## Exercise 1. \n",
    "Consider a list ​L ​of triplets (e, s, v) where e is a string with the name of a university course, s is a student-id, and v is the grade of the student who passed the exam of the course. Write a Python function​ summary(L)​ that returns a dictionary mapping:\n",
    "- the pair (“avg”, e) to the average of grades for course e\n",
    "- the pair (“top”, e) to the list of students that passed exam e with top score. For example:\n",
    "\n",
    "summary([(‘pds’, 1, 28), (‘pds’, 2, 25), (‘pds’, 3, 28), (‘dm’, 1, 22), (‘dm’, 3, 30)]) = { (‘avg’, ‘pds’): 27, (‘avg’, ‘dm’):26, (‘top’,’pds’)=[1,3], (‘top’, ‘dm’)=[3]}"
   ]
  },
  {
   "cell_type": "code",
   "execution_count": null,
   "metadata": {},
   "outputs": [],
   "source": []
  },
  {
   "cell_type": "markdown",
   "metadata": {},
   "source": [
    "# PDS_Test_05\n",
    "![sothing](./img/pds_5.png)"
   ]
  },
  {
   "cell_type": "code",
   "execution_count": null,
   "metadata": {},
   "outputs": [],
   "source": []
  },
  {
   "cell_type": "markdown",
   "metadata": {},
   "source": [
    "# PDS_Test_04\n",
    "\n",
    "![fun](./img/pds_4.png)"
   ]
  },
  {
   "cell_type": "code",
   "execution_count": null,
   "metadata": {},
   "outputs": [],
   "source": []
  },
  {
   "cell_type": "markdown",
   "metadata": {},
   "source": [
    "# PDS_Test_04\n",
    "\n",
    "## Exercise 2 (8 points). \n",
    "Develop a Python function ​freqorder(l) that for an input list ​l returns a re-ordering of the list such that values are ordered by frequency in ​l​. \n",
    "\n",
    "For example, ​freqorder([3, 1, 3, 1, 3, 2l) = [3, 3, 3, 1, 1, 2]"
   ]
  },
  {
   "cell_type": "code",
   "execution_count": null,
   "metadata": {},
   "outputs": [],
   "source": []
  },
  {
   "cell_type": "markdown",
   "metadata": {},
   "source": [
    "# PDS_Test_03\n",
    "\n",
    "## Exercise 1 (8 points). \n",
    "Develop a Python function ​binextract(n, i, j) where ​n​, ​i​, and ​j are non-negative integers, which returns the number represented by the bits from the ​i​th (included) to ​j​th (excluded) of the binary representation of ​n​. For example, ​binextract(283, 2, 5) returns 6 because 283​10 = 1000​110​11 and 110​2 = 6. Then, develop a Python function ​binpack(n, m, i) where ​n​, ​m​, and ​i are non-negative integers, which returns the number obtained by setting the bits of ​n starting from the ​i​th (included) to the binary representation of ​m​. \n",
    "\n",
    "For example, ​binpack(283, 12, 2) returns 307 because 283​10 = 100011011, 12​10 = 1100 and 100​1100​11 = 307​10.​"
   ]
  },
  {
   "cell_type": "code",
   "execution_count": null,
   "metadata": {},
   "outputs": [],
   "source": []
  },
  {
   "cell_type": "markdown",
   "metadata": {},
   "source": [
    "# PDS_Test_03\n",
    "\n",
    "## Exercise 2 (8 points). \n",
    "\n",
    "Develop a Python function ​nequals1(l) that given a list ​l returns a list ​r such that ​r[i] is the number of elements in ​l equals to ​l[i]​. \n",
    "\n",
    "For example, ​nequals1([‘a’, ‘b’, ‘a’, ‘c’, ‘a’, ‘b’]) = [3, 2, 3, 1, 3, 2]​. nequals1(l) ​must not use list comprehension. Then develop an equivalent function ​nequals2(l) ​which ​must use list comprehension."
   ]
  },
  {
   "cell_type": "code",
   "execution_count": null,
   "metadata": {},
   "outputs": [],
   "source": []
  },
  {
   "cell_type": "markdown",
   "metadata": {},
   "source": [
    "# PDS_Test_02\n",
    "\n",
    "## Exercise 1 (4 points). \n",
    "\n",
    "​[grouping] Consider a list of dictionaries ​data​. Each dictionary maps the course passed by a student to the grade taken (>= 18). E.g.,\n",
    "\n",
    "[ { ‘pds’:20, ‘dm’: 30}, {‘log’:28, ‘pds’:30}, ... ]\n",
    "\n",
    "Develop a Python function:\n",
    "- gby(data) that returns a dictionary mapping every course to the average grade of students who passed that course."
   ]
  },
  {
   "cell_type": "code",
   "execution_count": null,
   "metadata": {},
   "outputs": [],
   "source": []
  },
  {
   "cell_type": "markdown",
   "metadata": {},
   "source": [
    "# PDS_Test_02\n",
    "## Exercise 2 (4 points). \n",
    "\n",
    "​[regular expression] Develop a Python function ​string2listdict(s) that given an input string s such as: ​“student=1, pds=20, dm=30\\nstudent=2, log=28, pds=30\\n...” returns a list of dictionaries as in Exercise 1."
   ]
  },
  {
   "cell_type": "code",
   "execution_count": null,
   "metadata": {},
   "outputs": [],
   "source": []
  },
  {
   "cell_type": "markdown",
   "metadata": {},
   "source": [
    "# PDS_Test_01\n",
    "\n",
    "## Exercise​ ​1​ ​(4​ ​points).​​ ​​ ​​\n",
    "\n",
    "[Count​ ​of​ ​bissextile​ ​years]​​ ​A​ ​year​ ​is​ ​bissextile​ ​if​ ​it​ ​is​ ​divisible​ ​by​ ​4​ ​and​ ​not​ ​by 100​ ​unless​ ​it​ ​is​ ​divisible​ ​by​ ​400.​ ​Develop​ ​a​ ​Python​ ​function:\n",
    "- countbissextile(y1,​ ​y2)​​ ​that​ ​returns​ ​the​ ​number​ ​of​ ​bissextile​ ​years​ ​in​ ​the​ ​range​ ​[​y1​,​ ​​y2​)."
   ]
  },
  {
   "cell_type": "code",
   "execution_count": null,
   "metadata": {},
   "outputs": [],
   "source": []
  },
  {
   "cell_type": "code",
   "execution_count": null,
   "metadata": {},
   "outputs": [],
   "source": []
  },
  {
   "cell_type": "code",
   "execution_count": null,
   "metadata": {},
   "outputs": [],
   "source": []
  }
 ],
 "metadata": {
  "hide_input": false,
  "kernelspec": {
   "display_name": "Python 3",
   "language": "python",
   "name": "python3"
  },
  "language_info": {
   "codemirror_mode": {
    "name": "ipython",
    "version": 3
   },
   "file_extension": ".py",
   "mimetype": "text/x-python",
   "name": "python",
   "nbconvert_exporter": "python",
   "pygments_lexer": "ipython3",
   "version": "3.8.5"
  }
 },
 "nbformat": 4,
 "nbformat_minor": 4
}
